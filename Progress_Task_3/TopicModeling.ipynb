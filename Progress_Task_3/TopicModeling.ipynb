{
 "cells": [
  {
   "cell_type": "markdown",
   "metadata": {},
   "source": [
    "# <div style=\"border: 3px solid #FFFFF; padding: 10px; border-radius: 5px; background-color: #4484c2; text-align: center;\">Topic Modeling</div>"
   ]
  },
  {
   "cell_type": "markdown",
   "metadata": {},
   "source": [
    "An important task coming after data preprocessing and analysis (being the second step to virtually any NLP project) is topic modeling: a process that separates the existing data into multiple clusters, each of them representing a different topic. This is a crucial step in the process of understanding the data and extracting valuable insights from it. For this task, the team decided to use the BERTopic library, which is a topic modeling technique that leverages transformers model to create dense representations of the documents and then clusters them using HDBSCAN.\n",
    "\n",
    "#### Used Embeddings\n",
    "\n",
    "The embeddings used for topic modeling are taken from the project of digitalepidemiologylab in GitHub, which generated embeddings from COVID-19 tweets. These Embeddings are related to the BERT model, and a description about them can be found in the [official repository of digitalepidemoloylab's project](https://github.com/digitalepidemiologylab/covid-twitter-bert)."
   ]
  },
  {
   "cell_type": "markdown",
   "metadata": {},
   "source": [
    "## <div style=\"border: 3px solid #FFFFF; padding: 10px; border-radius: 5px; background-color: #4484c2;\">Dependencies Imports</div>"
   ]
  },
  {
   "cell_type": "code",
   "execution_count": 1,
   "metadata": {
    "vscode": {
     "languageId": "shellscript"
    }
   },
   "outputs": [
    {
     "name": "stdout",
     "output_type": "stream",
     "text": [
      "Requirement already satisfied: umap-learn in c:\\users\\craft\\appdata\\local\\packages\\pythonsoftwarefoundation.python.3.10_qbz5n2kfra8p0\\localcache\\local-packages\\python310\\site-packages (0.5.7)\n",
      "Requirement already satisfied: numpy>=1.17 in c:\\users\\craft\\appdata\\local\\packages\\pythonsoftwarefoundation.python.3.10_qbz5n2kfra8p0\\localcache\\local-packages\\python310\\site-packages (from umap-learn) (1.26.0)\n",
      "Requirement already satisfied: scipy>=1.3.1 in c:\\users\\craft\\appdata\\local\\packages\\pythonsoftwarefoundation.python.3.10_qbz5n2kfra8p0\\localcache\\local-packages\\python310\\site-packages (from umap-learn) (1.11.4)\n",
      "Requirement already satisfied: scikit-learn>=0.22 in c:\\users\\craft\\appdata\\local\\packages\\pythonsoftwarefoundation.python.3.10_qbz5n2kfra8p0\\localcache\\local-packages\\python310\\site-packages (from umap-learn) (1.5.2)\n",
      "Requirement already satisfied: numba>=0.51.2 in c:\\users\\craft\\appdata\\local\\packages\\pythonsoftwarefoundation.python.3.10_qbz5n2kfra8p0\\localcache\\local-packages\\python310\\site-packages (from umap-learn) (0.60.0)\n",
      "Requirement already satisfied: pynndescent>=0.5 in c:\\users\\craft\\appdata\\local\\packages\\pythonsoftwarefoundation.python.3.10_qbz5n2kfra8p0\\localcache\\local-packages\\python310\\site-packages (from umap-learn) (0.5.13)\n",
      "Requirement already satisfied: tqdm in c:\\users\\craft\\appdata\\local\\packages\\pythonsoftwarefoundation.python.3.10_qbz5n2kfra8p0\\localcache\\local-packages\\python310\\site-packages (from umap-learn) (4.67.1)\n",
      "Requirement already satisfied: llvmlite<0.44,>=0.43.0dev0 in c:\\users\\craft\\appdata\\local\\packages\\pythonsoftwarefoundation.python.3.10_qbz5n2kfra8p0\\localcache\\local-packages\\python310\\site-packages (from numba>=0.51.2->umap-learn) (0.43.0)\n",
      "Requirement already satisfied: joblib>=0.11 in c:\\users\\craft\\appdata\\local\\packages\\pythonsoftwarefoundation.python.3.10_qbz5n2kfra8p0\\localcache\\local-packages\\python310\\site-packages (from pynndescent>=0.5->umap-learn) (1.4.2)\n",
      "Requirement already satisfied: threadpoolctl>=3.1.0 in c:\\users\\craft\\appdata\\local\\packages\\pythonsoftwarefoundation.python.3.10_qbz5n2kfra8p0\\localcache\\local-packages\\python310\\site-packages (from scikit-learn>=0.22->umap-learn) (3.5.0)\n",
      "Requirement already satisfied: colorama in c:\\users\\craft\\appdata\\local\\packages\\pythonsoftwarefoundation.python.3.10_qbz5n2kfra8p0\\localcache\\local-packages\\python310\\site-packages (from tqdm->umap-learn) (0.4.6)\n"
     ]
    },
    {
     "name": "stderr",
     "output_type": "stream",
     "text": [
      "WARNING: There was an error checking the latest version of pip.\n"
     ]
    },
    {
     "name": "stdout",
     "output_type": "stream",
     "text": [
      "Requirement already satisfied: hdbscan in c:\\users\\craft\\appdata\\local\\packages\\pythonsoftwarefoundation.python.3.10_qbz5n2kfra8p0\\localcache\\local-packages\\python310\\site-packages (0.8.40)\n",
      "Requirement already satisfied: numpy<3,>=1.20 in c:\\users\\craft\\appdata\\local\\packages\\pythonsoftwarefoundation.python.3.10_qbz5n2kfra8p0\\localcache\\local-packages\\python310\\site-packages (from hdbscan) (1.26.0)\n",
      "Requirement already satisfied: scipy>=1.0 in c:\\users\\craft\\appdata\\local\\packages\\pythonsoftwarefoundation.python.3.10_qbz5n2kfra8p0\\localcache\\local-packages\\python310\\site-packages (from hdbscan) (1.11.4)\n",
      "Requirement already satisfied: scikit-learn>=0.20 in c:\\users\\craft\\appdata\\local\\packages\\pythonsoftwarefoundation.python.3.10_qbz5n2kfra8p0\\localcache\\local-packages\\python310\\site-packages (from hdbscan) (1.5.2)\n",
      "Requirement already satisfied: joblib>=1.0 in c:\\users\\craft\\appdata\\local\\packages\\pythonsoftwarefoundation.python.3.10_qbz5n2kfra8p0\\localcache\\local-packages\\python310\\site-packages (from hdbscan) (1.4.2)\n",
      "Requirement already satisfied: threadpoolctl>=3.1.0 in c:\\users\\craft\\appdata\\local\\packages\\pythonsoftwarefoundation.python.3.10_qbz5n2kfra8p0\\localcache\\local-packages\\python310\\site-packages (from scikit-learn>=0.20->hdbscan) (3.5.0)\n"
     ]
    },
    {
     "name": "stderr",
     "output_type": "stream",
     "text": [
      "WARNING: There was an error checking the latest version of pip.\n"
     ]
    },
    {
     "name": "stdout",
     "output_type": "stream",
     "text": [
      "Collecting sentence-transformers\n",
      "  Using cached sentence_transformers-3.3.1-py3-none-any.whl.metadata (10 kB)\n",
      "Collecting transformers<5.0.0,>=4.41.0 (from sentence-transformers)\n",
      "  Using cached transformers-4.47.1-py3-none-any.whl.metadata (44 kB)\n",
      "Requirement already satisfied: tqdm in c:\\users\\craft\\appdata\\local\\packages\\pythonsoftwarefoundation.python.3.10_qbz5n2kfra8p0\\localcache\\local-packages\\python310\\site-packages (from sentence-transformers) (4.67.1)\n",
      "Requirement already satisfied: torch>=1.11.0 in c:\\users\\craft\\appdata\\local\\packages\\pythonsoftwarefoundation.python.3.10_qbz5n2kfra8p0\\localcache\\local-packages\\python310\\site-packages (from sentence-transformers) (2.5.1)\n",
      "Requirement already satisfied: scikit-learn in c:\\users\\craft\\appdata\\local\\packages\\pythonsoftwarefoundation.python.3.10_qbz5n2kfra8p0\\localcache\\local-packages\\python310\\site-packages (from sentence-transformers) (1.5.2)\n",
      "Requirement already satisfied: scipy in c:\\users\\craft\\appdata\\local\\packages\\pythonsoftwarefoundation.python.3.10_qbz5n2kfra8p0\\localcache\\local-packages\\python310\\site-packages (from sentence-transformers) (1.11.4)\n",
      "Requirement already satisfied: huggingface-hub>=0.20.0 in c:\\users\\craft\\appdata\\local\\packages\\pythonsoftwarefoundation.python.3.10_qbz5n2kfra8p0\\localcache\\local-packages\\python310\\site-packages (from sentence-transformers) (0.27.0)\n",
      "Requirement already satisfied: Pillow in c:\\users\\craft\\appdata\\local\\packages\\pythonsoftwarefoundation.python.3.10_qbz5n2kfra8p0\\localcache\\local-packages\\python310\\site-packages (from sentence-transformers) (11.0.0)\n",
      "Requirement already satisfied: filelock in c:\\users\\craft\\appdata\\local\\packages\\pythonsoftwarefoundation.python.3.10_qbz5n2kfra8p0\\localcache\\local-packages\\python310\\site-packages (from huggingface-hub>=0.20.0->sentence-transformers) (3.16.1)\n",
      "Requirement already satisfied: fsspec>=2023.5.0 in c:\\users\\craft\\appdata\\local\\packages\\pythonsoftwarefoundation.python.3.10_qbz5n2kfra8p0\\localcache\\local-packages\\python310\\site-packages (from huggingface-hub>=0.20.0->sentence-transformers) (2024.12.0)\n",
      "Requirement already satisfied: packaging>=20.9 in c:\\users\\craft\\appdata\\local\\packages\\pythonsoftwarefoundation.python.3.10_qbz5n2kfra8p0\\localcache\\local-packages\\python310\\site-packages (from huggingface-hub>=0.20.0->sentence-transformers) (24.1)\n",
      "Requirement already satisfied: pyyaml>=5.1 in c:\\users\\craft\\appdata\\local\\packages\\pythonsoftwarefoundation.python.3.10_qbz5n2kfra8p0\\localcache\\local-packages\\python310\\site-packages (from huggingface-hub>=0.20.0->sentence-transformers) (6.0.2)\n",
      "Requirement already satisfied: requests in c:\\users\\craft\\appdata\\local\\packages\\pythonsoftwarefoundation.python.3.10_qbz5n2kfra8p0\\localcache\\local-packages\\python310\\site-packages (from huggingface-hub>=0.20.0->sentence-transformers) (2.32.3)\n",
      "Requirement already satisfied: typing-extensions>=3.7.4.3 in c:\\users\\craft\\appdata\\local\\packages\\pythonsoftwarefoundation.python.3.10_qbz5n2kfra8p0\\localcache\\local-packages\\python310\\site-packages (from huggingface-hub>=0.20.0->sentence-transformers) (4.12.2)\n",
      "Requirement already satisfied: networkx in c:\\users\\craft\\appdata\\local\\packages\\pythonsoftwarefoundation.python.3.10_qbz5n2kfra8p0\\localcache\\local-packages\\python310\\site-packages (from torch>=1.11.0->sentence-transformers) (3.4.2)\n",
      "Requirement already satisfied: jinja2 in c:\\users\\craft\\appdata\\local\\packages\\pythonsoftwarefoundation.python.3.10_qbz5n2kfra8p0\\localcache\\local-packages\\python310\\site-packages (from torch>=1.11.0->sentence-transformers) (3.1.5)\n",
      "Requirement already satisfied: sympy==1.13.1 in c:\\users\\craft\\appdata\\local\\packages\\pythonsoftwarefoundation.python.3.10_qbz5n2kfra8p0\\localcache\\local-packages\\python310\\site-packages (from torch>=1.11.0->sentence-transformers) (1.13.1)\n",
      "Requirement already satisfied: mpmath<1.4,>=1.1.0 in c:\\users\\craft\\appdata\\local\\packages\\pythonsoftwarefoundation.python.3.10_qbz5n2kfra8p0\\localcache\\local-packages\\python310\\site-packages (from sympy==1.13.1->torch>=1.11.0->sentence-transformers) (1.3.0)\n",
      "Requirement already satisfied: colorama in c:\\users\\craft\\appdata\\local\\packages\\pythonsoftwarefoundation.python.3.10_qbz5n2kfra8p0\\localcache\\local-packages\\python310\\site-packages (from tqdm->sentence-transformers) (0.4.6)\n",
      "Requirement already satisfied: numpy>=1.17 in c:\\users\\craft\\appdata\\local\\packages\\pythonsoftwarefoundation.python.3.10_qbz5n2kfra8p0\\localcache\\local-packages\\python310\\site-packages (from transformers<5.0.0,>=4.41.0->sentence-transformers) (1.26.0)\n",
      "Requirement already satisfied: regex!=2019.12.17 in c:\\users\\craft\\appdata\\local\\packages\\pythonsoftwarefoundation.python.3.10_qbz5n2kfra8p0\\localcache\\local-packages\\python310\\site-packages (from transformers<5.0.0,>=4.41.0->sentence-transformers) (2024.11.6)\n",
      "Requirement already satisfied: tokenizers<0.22,>=0.21 in c:\\users\\craft\\appdata\\local\\packages\\pythonsoftwarefoundation.python.3.10_qbz5n2kfra8p0\\localcache\\local-packages\\python310\\site-packages (from transformers<5.0.0,>=4.41.0->sentence-transformers) (0.21.0)\n",
      "Requirement already satisfied: safetensors>=0.4.1 in c:\\users\\craft\\appdata\\local\\packages\\pythonsoftwarefoundation.python.3.10_qbz5n2kfra8p0\\localcache\\local-packages\\python310\\site-packages (from transformers<5.0.0,>=4.41.0->sentence-transformers) (0.5.0)\n",
      "Requirement already satisfied: joblib>=1.2.0 in c:\\users\\craft\\appdata\\local\\packages\\pythonsoftwarefoundation.python.3.10_qbz5n2kfra8p0\\localcache\\local-packages\\python310\\site-packages (from scikit-learn->sentence-transformers) (1.4.2)\n",
      "Requirement already satisfied: threadpoolctl>=3.1.0 in c:\\users\\craft\\appdata\\local\\packages\\pythonsoftwarefoundation.python.3.10_qbz5n2kfra8p0\\localcache\\local-packages\\python310\\site-packages (from scikit-learn->sentence-transformers) (3.5.0)\n",
      "Requirement already satisfied: MarkupSafe>=2.0 in c:\\users\\craft\\appdata\\local\\packages\\pythonsoftwarefoundation.python.3.10_qbz5n2kfra8p0\\localcache\\local-packages\\python310\\site-packages (from jinja2->torch>=1.11.0->sentence-transformers) (3.0.2)\n",
      "Requirement already satisfied: charset-normalizer<4,>=2 in c:\\users\\craft\\appdata\\local\\packages\\pythonsoftwarefoundation.python.3.10_qbz5n2kfra8p0\\localcache\\local-packages\\python310\\site-packages (from requests->huggingface-hub>=0.20.0->sentence-transformers) (3.4.1)\n",
      "Requirement already satisfied: idna<4,>=2.5 in c:\\users\\craft\\appdata\\local\\packages\\pythonsoftwarefoundation.python.3.10_qbz5n2kfra8p0\\localcache\\local-packages\\python310\\site-packages (from requests->huggingface-hub>=0.20.0->sentence-transformers) (3.10)\n",
      "Requirement already satisfied: urllib3<3,>=1.21.1 in c:\\users\\craft\\appdata\\local\\packages\\pythonsoftwarefoundation.python.3.10_qbz5n2kfra8p0\\localcache\\local-packages\\python310\\site-packages (from requests->huggingface-hub>=0.20.0->sentence-transformers) (2.3.0)\n",
      "Requirement already satisfied: certifi>=2017.4.17 in c:\\users\\craft\\appdata\\local\\packages\\pythonsoftwarefoundation.python.3.10_qbz5n2kfra8p0\\localcache\\local-packages\\python310\\site-packages (from requests->huggingface-hub>=0.20.0->sentence-transformers) (2024.8.30)\n",
      "Using cached sentence_transformers-3.3.1-py3-none-any.whl (268 kB)\n",
      "Using cached transformers-4.47.1-py3-none-any.whl (10.1 MB)\n",
      "Installing collected packages: transformers, sentence-transformers\n",
      "Successfully installed sentence-transformers-3.3.1 transformers-4.47.1\n"
     ]
    },
    {
     "name": "stderr",
     "output_type": "stream",
     "text": [
      "WARNING: There was an error checking the latest version of pip.\n"
     ]
    },
    {
     "name": "stdout",
     "output_type": "stream",
     "text": [
      "Collecting bertopic\n",
      "  Using cached bertopic-0.16.4-py3-none-any.whl.metadata (23 kB)\n",
      "Requirement already satisfied: hdbscan>=0.8.29 in c:\\users\\craft\\appdata\\local\\packages\\pythonsoftwarefoundation.python.3.10_qbz5n2kfra8p0\\localcache\\local-packages\\python310\\site-packages (from bertopic) (0.8.40)\n",
      "Requirement already satisfied: numpy>=1.20.0 in c:\\users\\craft\\appdata\\local\\packages\\pythonsoftwarefoundation.python.3.10_qbz5n2kfra8p0\\localcache\\local-packages\\python310\\site-packages (from bertopic) (1.26.0)\n",
      "Requirement already satisfied: pandas>=1.1.5 in c:\\users\\craft\\appdata\\local\\packages\\pythonsoftwarefoundation.python.3.10_qbz5n2kfra8p0\\localcache\\local-packages\\python310\\site-packages (from bertopic) (2.2.3)\n",
      "Requirement already satisfied: plotly>=4.7.0 in c:\\users\\craft\\appdata\\local\\packages\\pythonsoftwarefoundation.python.3.10_qbz5n2kfra8p0\\localcache\\local-packages\\python310\\site-packages (from bertopic) (5.24.1)\n",
      "Requirement already satisfied: scikit-learn>=0.22.2.post1 in c:\\users\\craft\\appdata\\local\\packages\\pythonsoftwarefoundation.python.3.10_qbz5n2kfra8p0\\localcache\\local-packages\\python310\\site-packages (from bertopic) (1.5.2)\n",
      "Requirement already satisfied: sentence-transformers>=0.4.1 in c:\\users\\craft\\appdata\\local\\packages\\pythonsoftwarefoundation.python.3.10_qbz5n2kfra8p0\\localcache\\local-packages\\python310\\site-packages (from bertopic) (3.3.1)\n",
      "Requirement already satisfied: tqdm>=4.41.1 in c:\\users\\craft\\appdata\\local\\packages\\pythonsoftwarefoundation.python.3.10_qbz5n2kfra8p0\\localcache\\local-packages\\python310\\site-packages (from bertopic) (4.67.1)\n",
      "Requirement already satisfied: umap-learn>=0.5.0 in c:\\users\\craft\\appdata\\local\\packages\\pythonsoftwarefoundation.python.3.10_qbz5n2kfra8p0\\localcache\\local-packages\\python310\\site-packages (from bertopic) (0.5.7)\n",
      "Requirement already satisfied: scipy>=1.0 in c:\\users\\craft\\appdata\\local\\packages\\pythonsoftwarefoundation.python.3.10_qbz5n2kfra8p0\\localcache\\local-packages\\python310\\site-packages (from hdbscan>=0.8.29->bertopic) (1.11.4)\n",
      "Requirement already satisfied: joblib>=1.0 in c:\\users\\craft\\appdata\\local\\packages\\pythonsoftwarefoundation.python.3.10_qbz5n2kfra8p0\\localcache\\local-packages\\python310\\site-packages (from hdbscan>=0.8.29->bertopic) (1.4.2)\n",
      "Requirement already satisfied: python-dateutil>=2.8.2 in c:\\users\\craft\\appdata\\local\\packages\\pythonsoftwarefoundation.python.3.10_qbz5n2kfra8p0\\localcache\\local-packages\\python310\\site-packages (from pandas>=1.1.5->bertopic) (2.9.0.post0)\n",
      "Requirement already satisfied: pytz>=2020.1 in c:\\users\\craft\\appdata\\local\\packages\\pythonsoftwarefoundation.python.3.10_qbz5n2kfra8p0\\localcache\\local-packages\\python310\\site-packages (from pandas>=1.1.5->bertopic) (2024.2)\n",
      "Requirement already satisfied: tzdata>=2022.7 in c:\\users\\craft\\appdata\\local\\packages\\pythonsoftwarefoundation.python.3.10_qbz5n2kfra8p0\\localcache\\local-packages\\python310\\site-packages (from pandas>=1.1.5->bertopic) (2024.2)\n",
      "Requirement already satisfied: tenacity>=6.2.0 in c:\\users\\craft\\appdata\\local\\packages\\pythonsoftwarefoundation.python.3.10_qbz5n2kfra8p0\\localcache\\local-packages\\python310\\site-packages (from plotly>=4.7.0->bertopic) (9.0.0)\n",
      "Requirement already satisfied: packaging in c:\\users\\craft\\appdata\\local\\packages\\pythonsoftwarefoundation.python.3.10_qbz5n2kfra8p0\\localcache\\local-packages\\python310\\site-packages (from plotly>=4.7.0->bertopic) (24.1)\n",
      "Requirement already satisfied: threadpoolctl>=3.1.0 in c:\\users\\craft\\appdata\\local\\packages\\pythonsoftwarefoundation.python.3.10_qbz5n2kfra8p0\\localcache\\local-packages\\python310\\site-packages (from scikit-learn>=0.22.2.post1->bertopic) (3.5.0)\n",
      "Requirement already satisfied: transformers<5.0.0,>=4.41.0 in c:\\users\\craft\\appdata\\local\\packages\\pythonsoftwarefoundation.python.3.10_qbz5n2kfra8p0\\localcache\\local-packages\\python310\\site-packages (from sentence-transformers>=0.4.1->bertopic) (4.47.1)\n",
      "Requirement already satisfied: torch>=1.11.0 in c:\\users\\craft\\appdata\\local\\packages\\pythonsoftwarefoundation.python.3.10_qbz5n2kfra8p0\\localcache\\local-packages\\python310\\site-packages (from sentence-transformers>=0.4.1->bertopic) (2.5.1)\n",
      "Requirement already satisfied: huggingface-hub>=0.20.0 in c:\\users\\craft\\appdata\\local\\packages\\pythonsoftwarefoundation.python.3.10_qbz5n2kfra8p0\\localcache\\local-packages\\python310\\site-packages (from sentence-transformers>=0.4.1->bertopic) (0.27.0)\n",
      "Requirement already satisfied: Pillow in c:\\users\\craft\\appdata\\local\\packages\\pythonsoftwarefoundation.python.3.10_qbz5n2kfra8p0\\localcache\\local-packages\\python310\\site-packages (from sentence-transformers>=0.4.1->bertopic) (11.0.0)\n",
      "Requirement already satisfied: colorama in c:\\users\\craft\\appdata\\local\\packages\\pythonsoftwarefoundation.python.3.10_qbz5n2kfra8p0\\localcache\\local-packages\\python310\\site-packages (from tqdm>=4.41.1->bertopic) (0.4.6)\n",
      "Requirement already satisfied: numba>=0.51.2 in c:\\users\\craft\\appdata\\local\\packages\\pythonsoftwarefoundation.python.3.10_qbz5n2kfra8p0\\localcache\\local-packages\\python310\\site-packages (from umap-learn>=0.5.0->bertopic) (0.60.0)\n",
      "Requirement already satisfied: pynndescent>=0.5 in c:\\users\\craft\\appdata\\local\\packages\\pythonsoftwarefoundation.python.3.10_qbz5n2kfra8p0\\localcache\\local-packages\\python310\\site-packages (from umap-learn>=0.5.0->bertopic) (0.5.13)\n",
      "Requirement already satisfied: filelock in c:\\users\\craft\\appdata\\local\\packages\\pythonsoftwarefoundation.python.3.10_qbz5n2kfra8p0\\localcache\\local-packages\\python310\\site-packages (from huggingface-hub>=0.20.0->sentence-transformers>=0.4.1->bertopic) (3.16.1)\n",
      "Requirement already satisfied: fsspec>=2023.5.0 in c:\\users\\craft\\appdata\\local\\packages\\pythonsoftwarefoundation.python.3.10_qbz5n2kfra8p0\\localcache\\local-packages\\python310\\site-packages (from huggingface-hub>=0.20.0->sentence-transformers>=0.4.1->bertopic) (2024.12.0)\n",
      "Requirement already satisfied: pyyaml>=5.1 in c:\\users\\craft\\appdata\\local\\packages\\pythonsoftwarefoundation.python.3.10_qbz5n2kfra8p0\\localcache\\local-packages\\python310\\site-packages (from huggingface-hub>=0.20.0->sentence-transformers>=0.4.1->bertopic) (6.0.2)\n",
      "Requirement already satisfied: requests in c:\\users\\craft\\appdata\\local\\packages\\pythonsoftwarefoundation.python.3.10_qbz5n2kfra8p0\\localcache\\local-packages\\python310\\site-packages (from huggingface-hub>=0.20.0->sentence-transformers>=0.4.1->bertopic) (2.32.3)\n",
      "Requirement already satisfied: typing-extensions>=3.7.4.3 in c:\\users\\craft\\appdata\\local\\packages\\pythonsoftwarefoundation.python.3.10_qbz5n2kfra8p0\\localcache\\local-packages\\python310\\site-packages (from huggingface-hub>=0.20.0->sentence-transformers>=0.4.1->bertopic) (4.12.2)\n",
      "Requirement already satisfied: llvmlite<0.44,>=0.43.0dev0 in c:\\users\\craft\\appdata\\local\\packages\\pythonsoftwarefoundation.python.3.10_qbz5n2kfra8p0\\localcache\\local-packages\\python310\\site-packages (from numba>=0.51.2->umap-learn>=0.5.0->bertopic) (0.43.0)\n",
      "Requirement already satisfied: six>=1.5 in c:\\users\\craft\\appdata\\local\\packages\\pythonsoftwarefoundation.python.3.10_qbz5n2kfra8p0\\localcache\\local-packages\\python310\\site-packages (from python-dateutil>=2.8.2->pandas>=1.1.5->bertopic) (1.16.0)\n",
      "Requirement already satisfied: networkx in c:\\users\\craft\\appdata\\local\\packages\\pythonsoftwarefoundation.python.3.10_qbz5n2kfra8p0\\localcache\\local-packages\\python310\\site-packages (from torch>=1.11.0->sentence-transformers>=0.4.1->bertopic) (3.4.2)\n",
      "Requirement already satisfied: jinja2 in c:\\users\\craft\\appdata\\local\\packages\\pythonsoftwarefoundation.python.3.10_qbz5n2kfra8p0\\localcache\\local-packages\\python310\\site-packages (from torch>=1.11.0->sentence-transformers>=0.4.1->bertopic) (3.1.5)\n",
      "Requirement already satisfied: sympy==1.13.1 in c:\\users\\craft\\appdata\\local\\packages\\pythonsoftwarefoundation.python.3.10_qbz5n2kfra8p0\\localcache\\local-packages\\python310\\site-packages (from torch>=1.11.0->sentence-transformers>=0.4.1->bertopic) (1.13.1)\n",
      "Requirement already satisfied: mpmath<1.4,>=1.1.0 in c:\\users\\craft\\appdata\\local\\packages\\pythonsoftwarefoundation.python.3.10_qbz5n2kfra8p0\\localcache\\local-packages\\python310\\site-packages (from sympy==1.13.1->torch>=1.11.0->sentence-transformers>=0.4.1->bertopic) (1.3.0)\n",
      "Requirement already satisfied: regex!=2019.12.17 in c:\\users\\craft\\appdata\\local\\packages\\pythonsoftwarefoundation.python.3.10_qbz5n2kfra8p0\\localcache\\local-packages\\python310\\site-packages (from transformers<5.0.0,>=4.41.0->sentence-transformers>=0.4.1->bertopic) (2024.11.6)\n",
      "Requirement already satisfied: tokenizers<0.22,>=0.21 in c:\\users\\craft\\appdata\\local\\packages\\pythonsoftwarefoundation.python.3.10_qbz5n2kfra8p0\\localcache\\local-packages\\python310\\site-packages (from transformers<5.0.0,>=4.41.0->sentence-transformers>=0.4.1->bertopic) (0.21.0)\n",
      "Requirement already satisfied: safetensors>=0.4.1 in c:\\users\\craft\\appdata\\local\\packages\\pythonsoftwarefoundation.python.3.10_qbz5n2kfra8p0\\localcache\\local-packages\\python310\\site-packages (from transformers<5.0.0,>=4.41.0->sentence-transformers>=0.4.1->bertopic) (0.5.0)\n",
      "Requirement already satisfied: MarkupSafe>=2.0 in c:\\users\\craft\\appdata\\local\\packages\\pythonsoftwarefoundation.python.3.10_qbz5n2kfra8p0\\localcache\\local-packages\\python310\\site-packages (from jinja2->torch>=1.11.0->sentence-transformers>=0.4.1->bertopic) (3.0.2)\n",
      "Requirement already satisfied: charset-normalizer<4,>=2 in c:\\users\\craft\\appdata\\local\\packages\\pythonsoftwarefoundation.python.3.10_qbz5n2kfra8p0\\localcache\\local-packages\\python310\\site-packages (from requests->huggingface-hub>=0.20.0->sentence-transformers>=0.4.1->bertopic) (3.4.1)\n",
      "Requirement already satisfied: idna<4,>=2.5 in c:\\users\\craft\\appdata\\local\\packages\\pythonsoftwarefoundation.python.3.10_qbz5n2kfra8p0\\localcache\\local-packages\\python310\\site-packages (from requests->huggingface-hub>=0.20.0->sentence-transformers>=0.4.1->bertopic) (3.10)\n",
      "Requirement already satisfied: urllib3<3,>=1.21.1 in c:\\users\\craft\\appdata\\local\\packages\\pythonsoftwarefoundation.python.3.10_qbz5n2kfra8p0\\localcache\\local-packages\\python310\\site-packages (from requests->huggingface-hub>=0.20.0->sentence-transformers>=0.4.1->bertopic) (2.3.0)\n",
      "Requirement already satisfied: certifi>=2017.4.17 in c:\\users\\craft\\appdata\\local\\packages\\pythonsoftwarefoundation.python.3.10_qbz5n2kfra8p0\\localcache\\local-packages\\python310\\site-packages (from requests->huggingface-hub>=0.20.0->sentence-transformers>=0.4.1->bertopic) (2024.8.30)\n",
      "Using cached bertopic-0.16.4-py3-none-any.whl (143 kB)\n",
      "Installing collected packages: bertopic\n",
      "Successfully installed bertopic-0.16.4\n"
     ]
    },
    {
     "name": "stderr",
     "output_type": "stream",
     "text": [
      "WARNING: There was an error checking the latest version of pip.\n"
     ]
    },
    {
     "name": "stdout",
     "output_type": "stream",
     "text": [
      "Requirement already satisfied: nltk in c:\\users\\craft\\appdata\\local\\packages\\pythonsoftwarefoundation.python.3.10_qbz5n2kfra8p0\\localcache\\local-packages\\python310\\site-packages (3.9.1)\n",
      "Requirement already satisfied: click in c:\\users\\craft\\appdata\\local\\packages\\pythonsoftwarefoundation.python.3.10_qbz5n2kfra8p0\\localcache\\local-packages\\python310\\site-packages (from nltk) (8.1.8)\n",
      "Requirement already satisfied: joblib in c:\\users\\craft\\appdata\\local\\packages\\pythonsoftwarefoundation.python.3.10_qbz5n2kfra8p0\\localcache\\local-packages\\python310\\site-packages (from nltk) (1.4.2)\n",
      "Requirement already satisfied: regex>=2021.8.3 in c:\\users\\craft\\appdata\\local\\packages\\pythonsoftwarefoundation.python.3.10_qbz5n2kfra8p0\\localcache\\local-packages\\python310\\site-packages (from nltk) (2024.11.6)\n",
      "Requirement already satisfied: tqdm in c:\\users\\craft\\appdata\\local\\packages\\pythonsoftwarefoundation.python.3.10_qbz5n2kfra8p0\\localcache\\local-packages\\python310\\site-packages (from nltk) (4.67.1)\n",
      "Requirement already satisfied: colorama in c:\\users\\craft\\appdata\\local\\packages\\pythonsoftwarefoundation.python.3.10_qbz5n2kfra8p0\\localcache\\local-packages\\python310\\site-packages (from click->nltk) (0.4.6)\n"
     ]
    },
    {
     "name": "stderr",
     "output_type": "stream",
     "text": [
      "WARNING: There was an error checking the latest version of pip.\n"
     ]
    },
    {
     "name": "stdout",
     "output_type": "stream",
     "text": [
      "Collecting datamapplot\n",
      "  Using cached datamapplot-0.4.2-py3-none-any.whl.metadata (6.1 kB)\n",
      "Collecting colorcet (from datamapplot)\n",
      "  Using cached colorcet-3.1.0-py3-none-any.whl.metadata (6.3 kB)\n",
      "Collecting colorspacious>=1.1 (from datamapplot)\n",
      "  Using cached colorspacious-1.1.2-py2.py3-none-any.whl.metadata (3.6 kB)\n",
      "Collecting datashader>=0.16 (from datamapplot)\n",
      "  Using cached datashader-0.16.3-py2.py3-none-any.whl.metadata (12 kB)\n",
      "Collecting importlib-resources (from datamapplot)\n",
      "  Using cached importlib_resources-6.5.2-py3-none-any.whl.metadata (3.9 kB)\n",
      "Requirement already satisfied: jinja2 in c:\\users\\craft\\appdata\\local\\packages\\pythonsoftwarefoundation.python.3.10_qbz5n2kfra8p0\\localcache\\local-packages\\python310\\site-packages (from datamapplot) (3.1.5)\n",
      "Requirement already satisfied: matplotlib>=3.8 in c:\\users\\craft\\appdata\\local\\packages\\pythonsoftwarefoundation.python.3.10_qbz5n2kfra8p0\\localcache\\local-packages\\python310\\site-packages (from datamapplot) (3.9.2)\n",
      "Requirement already satisfied: numba>=0.56 in c:\\users\\craft\\appdata\\local\\packages\\pythonsoftwarefoundation.python.3.10_qbz5n2kfra8p0\\localcache\\local-packages\\python310\\site-packages (from datamapplot) (0.60.0)\n",
      "Requirement already satisfied: numpy>=1.21 in c:\\users\\craft\\appdata\\local\\packages\\pythonsoftwarefoundation.python.3.10_qbz5n2kfra8p0\\localcache\\local-packages\\python310\\site-packages (from datamapplot) (1.26.0)\n",
      "Requirement already satisfied: pandas>=1.0 in c:\\users\\craft\\appdata\\local\\packages\\pythonsoftwarefoundation.python.3.10_qbz5n2kfra8p0\\localcache\\local-packages\\python310\\site-packages (from datamapplot) (2.2.3)\n",
      "Requirement already satisfied: pyarrow in c:\\users\\craft\\appdata\\local\\packages\\pythonsoftwarefoundation.python.3.10_qbz5n2kfra8p0\\localcache\\local-packages\\python310\\site-packages (from datamapplot) (18.1.0)\n",
      "Collecting pylabeladjust (from datamapplot)\n",
      "  Using cached pylabeladjust-0.1.13-py3-none-any.whl.metadata (8.2 kB)\n",
      "Requirement already satisfied: requests in c:\\users\\craft\\appdata\\local\\packages\\pythonsoftwarefoundation.python.3.10_qbz5n2kfra8p0\\localcache\\local-packages\\python310\\site-packages (from datamapplot) (2.32.3)\n",
      "Collecting rcssmin>=1.1.2 (from datamapplot)\n",
      "  Using cached rcssmin-1.2.0.tar.gz (583 kB)\n",
      "  Installing build dependencies: started\n",
      "  Installing build dependencies: finished with status 'done'\n",
      "  Getting requirements to build wheel: started\n",
      "  Getting requirements to build wheel: finished with status 'done'\n",
      "  Preparing metadata (pyproject.toml): started\n",
      "  Preparing metadata (pyproject.toml): finished with status 'done'\n",
      "Collecting rjsmin>=1.2.2 (from datamapplot)\n",
      "  Using cached rjsmin-1.2.3.tar.gz (417 kB)\n",
      "  Installing build dependencies: started\n",
      "  Installing build dependencies: finished with status 'done'\n",
      "  Getting requirements to build wheel: started\n",
      "  Getting requirements to build wheel: finished with status 'done'\n",
      "  Preparing metadata (pyproject.toml): started\n",
      "  Preparing metadata (pyproject.toml): finished with status 'done'\n",
      "Collecting scikit-image>=0.22 (from datamapplot)\n",
      "  Using cached scikit_image-0.25.0-cp310-cp310-win_amd64.whl.metadata (14 kB)\n",
      "Requirement already satisfied: scikit-learn>=1.1 in c:\\users\\craft\\appdata\\local\\packages\\pythonsoftwarefoundation.python.3.10_qbz5n2kfra8p0\\localcache\\local-packages\\python310\\site-packages (from datamapplot) (1.5.2)\n",
      "Collecting dask (from datashader>=0.16->datamapplot)\n",
      "  Using cached dask-2024.12.1-py3-none-any.whl.metadata (3.7 kB)\n",
      "Collecting multipledispatch (from datashader>=0.16->datamapplot)\n",
      "  Using cached multipledispatch-1.0.0-py3-none-any.whl.metadata (3.8 kB)\n",
      "Collecting param (from datashader>=0.16->datamapplot)\n",
      "  Using cached param-2.2.0-py3-none-any.whl.metadata (6.6 kB)\n",
      "Requirement already satisfied: pillow in c:\\users\\craft\\appdata\\local\\packages\\pythonsoftwarefoundation.python.3.10_qbz5n2kfra8p0\\localcache\\local-packages\\python310\\site-packages (from datashader>=0.16->datamapplot) (11.0.0)\n",
      "Collecting pyct (from datashader>=0.16->datamapplot)\n",
      "  Using cached pyct-0.5.0-py2.py3-none-any.whl.metadata (7.4 kB)\n",
      "Requirement already satisfied: scipy in c:\\users\\craft\\appdata\\local\\packages\\pythonsoftwarefoundation.python.3.10_qbz5n2kfra8p0\\localcache\\local-packages\\python310\\site-packages (from datashader>=0.16->datamapplot) (1.11.4)\n",
      "Requirement already satisfied: toolz in c:\\users\\craft\\appdata\\local\\packages\\pythonsoftwarefoundation.python.3.10_qbz5n2kfra8p0\\localcache\\local-packages\\python310\\site-packages (from datashader>=0.16->datamapplot) (1.0.0)\n",
      "Requirement already satisfied: packaging in c:\\users\\craft\\appdata\\local\\packages\\pythonsoftwarefoundation.python.3.10_qbz5n2kfra8p0\\localcache\\local-packages\\python310\\site-packages (from datashader>=0.16->datamapplot) (24.1)\n",
      "Collecting xarray (from datashader>=0.16->datamapplot)\n",
      "  Using cached xarray-2025.1.0-py3-none-any.whl.metadata (11 kB)\n",
      "Requirement already satisfied: contourpy>=1.0.1 in c:\\users\\craft\\appdata\\local\\packages\\pythonsoftwarefoundation.python.3.10_qbz5n2kfra8p0\\localcache\\local-packages\\python310\\site-packages (from matplotlib>=3.8->datamapplot) (1.3.0)\n",
      "Requirement already satisfied: cycler>=0.10 in c:\\users\\craft\\appdata\\local\\packages\\pythonsoftwarefoundation.python.3.10_qbz5n2kfra8p0\\localcache\\local-packages\\python310\\site-packages (from matplotlib>=3.8->datamapplot) (0.12.1)\n",
      "Requirement already satisfied: fonttools>=4.22.0 in c:\\users\\craft\\appdata\\local\\packages\\pythonsoftwarefoundation.python.3.10_qbz5n2kfra8p0\\localcache\\local-packages\\python310\\site-packages (from matplotlib>=3.8->datamapplot) (4.54.1)\n",
      "Requirement already satisfied: kiwisolver>=1.3.1 in c:\\users\\craft\\appdata\\local\\packages\\pythonsoftwarefoundation.python.3.10_qbz5n2kfra8p0\\localcache\\local-packages\\python310\\site-packages (from matplotlib>=3.8->datamapplot) (1.4.7)\n",
      "Requirement already satisfied: pyparsing>=2.3.1 in c:\\users\\craft\\appdata\\local\\packages\\pythonsoftwarefoundation.python.3.10_qbz5n2kfra8p0\\localcache\\local-packages\\python310\\site-packages (from matplotlib>=3.8->datamapplot) (3.2.0)\n",
      "Requirement already satisfied: python-dateutil>=2.7 in c:\\users\\craft\\appdata\\local\\packages\\pythonsoftwarefoundation.python.3.10_qbz5n2kfra8p0\\localcache\\local-packages\\python310\\site-packages (from matplotlib>=3.8->datamapplot) (2.9.0.post0)\n",
      "Requirement already satisfied: llvmlite<0.44,>=0.43.0dev0 in c:\\users\\craft\\appdata\\local\\packages\\pythonsoftwarefoundation.python.3.10_qbz5n2kfra8p0\\localcache\\local-packages\\python310\\site-packages (from numba>=0.56->datamapplot) (0.43.0)\n",
      "Requirement already satisfied: pytz>=2020.1 in c:\\users\\craft\\appdata\\local\\packages\\pythonsoftwarefoundation.python.3.10_qbz5n2kfra8p0\\localcache\\local-packages\\python310\\site-packages (from pandas>=1.0->datamapplot) (2024.2)\n",
      "Requirement already satisfied: tzdata>=2022.7 in c:\\users\\craft\\appdata\\local\\packages\\pythonsoftwarefoundation.python.3.10_qbz5n2kfra8p0\\localcache\\local-packages\\python310\\site-packages (from pandas>=1.0->datamapplot) (2024.2)\n",
      "Requirement already satisfied: networkx>=3.0 in c:\\users\\craft\\appdata\\local\\packages\\pythonsoftwarefoundation.python.3.10_qbz5n2kfra8p0\\localcache\\local-packages\\python310\\site-packages (from scikit-image>=0.22->datamapplot) (3.4.2)\n",
      "Collecting imageio!=2.35.0,>=2.33 (from scikit-image>=0.22->datamapplot)\n",
      "  Using cached imageio-2.36.1-py3-none-any.whl.metadata (5.2 kB)\n",
      "Collecting tifffile>=2022.8.12 (from scikit-image>=0.22->datamapplot)\n",
      "  Using cached tifffile-2024.12.12-py3-none-any.whl.metadata (31 kB)\n",
      "Collecting lazy-loader>=0.4 (from scikit-image>=0.22->datamapplot)\n",
      "  Using cached lazy_loader-0.4-py3-none-any.whl.metadata (7.6 kB)\n",
      "Requirement already satisfied: joblib>=1.2.0 in c:\\users\\craft\\appdata\\local\\packages\\pythonsoftwarefoundation.python.3.10_qbz5n2kfra8p0\\localcache\\local-packages\\python310\\site-packages (from scikit-learn>=1.1->datamapplot) (1.4.2)\n",
      "Requirement already satisfied: threadpoolctl>=3.1.0 in c:\\users\\craft\\appdata\\local\\packages\\pythonsoftwarefoundation.python.3.10_qbz5n2kfra8p0\\localcache\\local-packages\\python310\\site-packages (from scikit-learn>=1.1->datamapplot) (3.5.0)\n",
      "Requirement already satisfied: MarkupSafe>=2.0 in c:\\users\\craft\\appdata\\local\\packages\\pythonsoftwarefoundation.python.3.10_qbz5n2kfra8p0\\localcache\\local-packages\\python310\\site-packages (from jinja2->datamapplot) (3.0.2)\n",
      "Collecting Pyqtree<2.0.0,>=1.0.0 (from pylabeladjust->datamapplot)\n",
      "  Using cached Pyqtree-1.0.0.tar.gz (5.2 kB)\n",
      "  Installing build dependencies: started\n",
      "  Installing build dependencies: finished with status 'done'\n",
      "  Getting requirements to build wheel: started\n",
      "  Getting requirements to build wheel: finished with status 'done'\n",
      "  Preparing metadata (pyproject.toml): started\n",
      "  Preparing metadata (pyproject.toml): finished with status 'done'\n",
      "Requirement already satisfied: tqdm<5.0.0,>=4.66.2 in c:\\users\\craft\\appdata\\local\\packages\\pythonsoftwarefoundation.python.3.10_qbz5n2kfra8p0\\localcache\\local-packages\\python310\\site-packages (from pylabeladjust->datamapplot) (4.67.1)\n",
      "Requirement already satisfied: charset-normalizer<4,>=2 in c:\\users\\craft\\appdata\\local\\packages\\pythonsoftwarefoundation.python.3.10_qbz5n2kfra8p0\\localcache\\local-packages\\python310\\site-packages (from requests->datamapplot) (3.4.1)\n",
      "Requirement already satisfied: idna<4,>=2.5 in c:\\users\\craft\\appdata\\local\\packages\\pythonsoftwarefoundation.python.3.10_qbz5n2kfra8p0\\localcache\\local-packages\\python310\\site-packages (from requests->datamapplot) (3.10)\n",
      "Requirement already satisfied: urllib3<3,>=1.21.1 in c:\\users\\craft\\appdata\\local\\packages\\pythonsoftwarefoundation.python.3.10_qbz5n2kfra8p0\\localcache\\local-packages\\python310\\site-packages (from requests->datamapplot) (2.3.0)\n",
      "Requirement already satisfied: certifi>=2017.4.17 in c:\\users\\craft\\appdata\\local\\packages\\pythonsoftwarefoundation.python.3.10_qbz5n2kfra8p0\\localcache\\local-packages\\python310\\site-packages (from requests->datamapplot) (2024.8.30)\n",
      "Requirement already satisfied: six>=1.5 in c:\\users\\craft\\appdata\\local\\packages\\pythonsoftwarefoundation.python.3.10_qbz5n2kfra8p0\\localcache\\local-packages\\python310\\site-packages (from python-dateutil>=2.7->matplotlib>=3.8->datamapplot) (1.16.0)\n",
      "Requirement already satisfied: colorama in c:\\users\\craft\\appdata\\local\\packages\\pythonsoftwarefoundation.python.3.10_qbz5n2kfra8p0\\localcache\\local-packages\\python310\\site-packages (from tqdm<5.0.0,>=4.66.2->pylabeladjust->datamapplot) (0.4.6)\n",
      "Requirement already satisfied: click>=8.1 in c:\\users\\craft\\appdata\\local\\packages\\pythonsoftwarefoundation.python.3.10_qbz5n2kfra8p0\\localcache\\local-packages\\python310\\site-packages (from dask->datashader>=0.16->datamapplot) (8.1.8)\n",
      "Requirement already satisfied: cloudpickle>=3.0.0 in c:\\users\\craft\\appdata\\local\\packages\\pythonsoftwarefoundation.python.3.10_qbz5n2kfra8p0\\localcache\\local-packages\\python310\\site-packages (from dask->datashader>=0.16->datamapplot) (3.1.0)\n",
      "Requirement already satisfied: fsspec>=2021.09.0 in c:\\users\\craft\\appdata\\local\\packages\\pythonsoftwarefoundation.python.3.10_qbz5n2kfra8p0\\localcache\\local-packages\\python310\\site-packages (from dask->datashader>=0.16->datamapplot) (2024.12.0)\n",
      "Requirement already satisfied: partd>=1.4.0 in c:\\users\\craft\\appdata\\local\\packages\\pythonsoftwarefoundation.python.3.10_qbz5n2kfra8p0\\localcache\\local-packages\\python310\\site-packages (from dask->datashader>=0.16->datamapplot) (1.4.2)\n",
      "Requirement already satisfied: pyyaml>=5.3.1 in c:\\users\\craft\\appdata\\local\\packages\\pythonsoftwarefoundation.python.3.10_qbz5n2kfra8p0\\localcache\\local-packages\\python310\\site-packages (from dask->datashader>=0.16->datamapplot) (6.0.2)\n",
      "Requirement already satisfied: importlib_metadata>=4.13.0 in c:\\users\\craft\\appdata\\local\\packages\\pythonsoftwarefoundation.python.3.10_qbz5n2kfra8p0\\localcache\\local-packages\\python310\\site-packages (from dask->datashader>=0.16->datamapplot) (8.5.0)\n",
      "Requirement already satisfied: zipp>=3.20 in c:\\users\\craft\\appdata\\local\\packages\\pythonsoftwarefoundation.python.3.10_qbz5n2kfra8p0\\localcache\\local-packages\\python310\\site-packages (from importlib_metadata>=4.13.0->dask->datashader>=0.16->datamapplot) (3.21.0)\n",
      "Requirement already satisfied: locket in c:\\users\\craft\\appdata\\local\\packages\\pythonsoftwarefoundation.python.3.10_qbz5n2kfra8p0\\localcache\\local-packages\\python310\\site-packages (from partd>=1.4.0->dask->datashader>=0.16->datamapplot) (1.0.0)\n",
      "Downloading datamapplot-0.4.2-py3-none-any.whl (72 kB)\n",
      "   ---------------------------------------- 0.0/72.4 kB ? eta -:--:--\n",
      "   ---------------- ----------------------- 30.7/72.4 kB ? eta -:--:--\n",
      "   ---------------------------------------  71.7/72.4 kB 1.3 MB/s eta 0:00:01\n",
      "   ---------------------------------------- 72.4/72.4 kB 565.1 kB/s eta 0:00:00\n",
      "Downloading colorspacious-1.1.2-py2.py3-none-any.whl (37 kB)\n",
      "Downloading datashader-0.16.3-py2.py3-none-any.whl (18.3 MB)\n",
      "   ---------------------------------------- 0.0/18.3 MB ? eta -:--:--\n",
      "   ---------------------------------------- 0.1/18.3 MB ? eta -:--:--\n",
      "   ---------------------------------------- 0.2/18.3 MB 4.6 MB/s eta 0:00:04\n",
      "    --------------------------------------- 0.2/18.3 MB 2.5 MB/s eta 0:00:08\n",
      "    --------------------------------------- 0.4/18.3 MB 2.2 MB/s eta 0:00:09\n",
      "   - -------------------------------------- 0.7/18.3 MB 3.3 MB/s eta 0:00:06\n",
      "   - -------------------------------------- 0.9/18.3 MB 3.4 MB/s eta 0:00:06\n",
      "   -- ------------------------------------- 1.3/18.3 MB 3.8 MB/s eta 0:00:05\n",
      "   --- ------------------------------------ 1.6/18.3 MB 4.2 MB/s eta 0:00:05\n",
      "   --- ------------------------------------ 1.8/18.3 MB 4.3 MB/s eta 0:00:04\n",
      "   --- ------------------------------------ 1.8/18.3 MB 4.3 MB/s eta 0:00:04\n",
      "   --- ------------------------------------ 1.8/18.3 MB 3.6 MB/s eta 0:00:05\n",
      "   --- ------------------------------------ 1.8/18.3 MB 3.6 MB/s eta 0:00:05\n",
      "   ---- ----------------------------------- 2.1/18.3 MB 3.4 MB/s eta 0:00:05\n",
      "   ----- ---------------------------------- 2.6/18.3 MB 4.0 MB/s eta 0:00:04\n",
      "   ----- ---------------------------------- 2.7/18.3 MB 4.0 MB/s eta 0:00:04\n",
      "   ------ --------------------------------- 2.9/18.3 MB 4.1 MB/s eta 0:00:04\n",
      "   ------ --------------------------------- 3.0/18.3 MB 3.9 MB/s eta 0:00:04\n",
      "   ------- -------------------------------- 3.5/18.3 MB 4.1 MB/s eta 0:00:04\n",
      "   ------- -------------------------------- 3.7/18.3 MB 4.1 MB/s eta 0:00:04\n",
      "   -------- ------------------------------- 3.9/18.3 MB 4.2 MB/s eta 0:00:04\n",
      "   -------- ------------------------------- 4.0/18.3 MB 4.2 MB/s eta 0:00:04\n",
      "   --------- ------------------------------ 4.3/18.3 MB 4.1 MB/s eta 0:00:04\n",
      "   --------- ------------------------------ 4.5/18.3 MB 4.2 MB/s eta 0:00:04\n",
      "   ---------- ----------------------------- 4.6/18.3 MB 4.1 MB/s eta 0:00:04\n",
      "   ---------- ----------------------------- 4.6/18.3 MB 4.0 MB/s eta 0:00:04\n",
      "   ----------- ---------------------------- 5.1/18.3 MB 4.2 MB/s eta 0:00:04\n",
      "   ----------- ---------------------------- 5.2/18.3 MB 4.2 MB/s eta 0:00:04\n",
      "   ------------ --------------------------- 5.6/18.3 MB 4.3 MB/s eta 0:00:03\n",
      "   ------------ --------------------------- 5.8/18.3 MB 4.4 MB/s eta 0:00:03\n",
      "   ------------ --------------------------- 5.8/18.3 MB 4.2 MB/s eta 0:00:03\n",
      "   ------------- -------------------------- 6.0/18.3 MB 4.2 MB/s eta 0:00:03\n",
      "   ------------- -------------------------- 6.1/18.3 MB 4.1 MB/s eta 0:00:03\n",
      "   ------------- -------------------------- 6.3/18.3 MB 4.1 MB/s eta 0:00:03\n",
      "   -------------- ------------------------- 6.5/18.3 MB 4.0 MB/s eta 0:00:03\n",
      "   -------------- ------------------------- 6.7/18.3 MB 4.1 MB/s eta 0:00:03\n",
      "   -------------- ------------------------- 6.8/18.3 MB 4.0 MB/s eta 0:00:03\n",
      "   --------------- ------------------------ 6.9/18.3 MB 4.0 MB/s eta 0:00:03\n",
      "   ---------------- ----------------------- 7.4/18.3 MB 4.2 MB/s eta 0:00:03\n",
      "   ----------------- ---------------------- 7.8/18.3 MB 4.3 MB/s eta 0:00:03\n",
      "   ----------------- ---------------------- 7.9/18.3 MB 4.3 MB/s eta 0:00:03\n",
      "   ----------------- ---------------------- 7.9/18.3 MB 4.2 MB/s eta 0:00:03\n",
      "   ----------------- ---------------------- 8.2/18.3 MB 4.2 MB/s eta 0:00:03\n",
      "   ------------------ --------------------- 8.3/18.3 MB 4.1 MB/s eta 0:00:03\n",
      "   ------------------ --------------------- 8.7/18.3 MB 4.2 MB/s eta 0:00:03\n",
      "   ------------------- -------------------- 8.8/18.3 MB 4.2 MB/s eta 0:00:03\n",
      "   ------------------- -------------------- 9.1/18.3 MB 4.2 MB/s eta 0:00:03\n",
      "   ------------------- -------------------- 9.1/18.3 MB 4.2 MB/s eta 0:00:03\n",
      "   -------------------- ------------------- 9.3/18.3 MB 4.2 MB/s eta 0:00:03\n",
      "   --------------------- ------------------ 9.8/18.3 MB 4.3 MB/s eta 0:00:03\n",
      "   --------------------- ------------------ 9.9/18.3 MB 4.2 MB/s eta 0:00:02\n",
      "   ---------------------- ----------------- 10.5/18.3 MB 4.5 MB/s eta 0:00:02\n",
      "   ----------------------- ---------------- 10.6/18.3 MB 4.5 MB/s eta 0:00:02\n",
      "   ------------------------ --------------- 11.2/18.3 MB 4.7 MB/s eta 0:00:02\n",
      "   ------------------------ --------------- 11.3/18.3 MB 4.6 MB/s eta 0:00:02\n",
      "   -------------------------- ------------- 11.9/18.3 MB 4.6 MB/s eta 0:00:02\n",
      "   -------------------------- ------------- 12.1/18.3 MB 5.0 MB/s eta 0:00:02\n",
      "   --------------------------- ------------ 12.4/18.3 MB 5.0 MB/s eta 0:00:02\n",
      "   --------------------------- ------------ 12.5/18.3 MB 4.9 MB/s eta 0:00:02\n",
      "   --------------------------- ------------ 12.7/18.3 MB 4.8 MB/s eta 0:00:02\n",
      "   ---------------------------- ----------- 12.8/18.3 MB 4.7 MB/s eta 0:00:02\n",
      "   ---------------------------- ----------- 13.1/18.3 MB 4.7 MB/s eta 0:00:02\n",
      "   ----------------------------- ---------- 13.5/18.3 MB 4.9 MB/s eta 0:00:01\n",
      "   ------------------------------ --------- 13.9/18.3 MB 4.9 MB/s eta 0:00:01\n",
      "   ------------------------------- -------- 14.3/18.3 MB 5.1 MB/s eta 0:00:01\n",
      "   -------------------------------- ------- 14.7/18.3 MB 5.1 MB/s eta 0:00:01\n",
      "   --------------------------------- ------ 15.2/18.3 MB 5.3 MB/s eta 0:00:01\n",
      "   --------------------------------- ------ 15.5/18.3 MB 5.4 MB/s eta 0:00:01\n",
      "   ---------------------------------- ----- 15.6/18.3 MB 5.4 MB/s eta 0:00:01\n",
      "   ----------------------------------- ---- 16.1/18.3 MB 5.6 MB/s eta 0:00:01\n",
      "   ----------------------------------- ---- 16.4/18.3 MB 5.8 MB/s eta 0:00:01\n",
      "   ----------------------------------- ---- 16.4/18.3 MB 5.8 MB/s eta 0:00:01\n",
      "   ------------------------------------ --- 16.7/18.3 MB 5.7 MB/s eta 0:00:01\n",
      "   ------------------------------------ --- 16.9/18.3 MB 5.7 MB/s eta 0:00:01\n",
      "   ------------------------------------- -- 17.1/18.3 MB 5.8 MB/s eta 0:00:01\n",
      "   -------------------------------------- - 17.4/18.3 MB 5.8 MB/s eta 0:00:01\n",
      "   -------------------------------------- - 17.6/18.3 MB 5.7 MB/s eta 0:00:01\n",
      "   ---------------------------------------  18.0/18.3 MB 5.6 MB/s eta 0:00:01\n",
      "   ---------------------------------------  18.1/18.3 MB 5.5 MB/s eta 0:00:01\n",
      "   ---------------------------------------  18.2/18.3 MB 5.8 MB/s eta 0:00:01\n",
      "   ---------------------------------------  18.2/18.3 MB 5.7 MB/s eta 0:00:01\n",
      "   ---------------------------------------  18.3/18.3 MB 5.5 MB/s eta 0:00:01\n",
      "   ---------------------------------------  18.3/18.3 MB 5.4 MB/s eta 0:00:01\n",
      "   ---------------------------------------  18.3/18.3 MB 5.4 MB/s eta 0:00:01\n",
      "   ---------------------------------------  18.3/18.3 MB 5.4 MB/s eta 0:00:01\n",
      "   ---------------------------------------- 18.3/18.3 MB 5.0 MB/s eta 0:00:00\n",
      "Downloading scikit_image-0.25.0-cp310-cp310-win_amd64.whl (12.8 MB)\n",
      "   ---------------------------------------- 0.0/12.8 MB ? eta -:--:--\n",
      "   ---------------------------------------- 0.0/12.8 MB ? eta -:--:--\n",
      "   - -------------------------------------- 0.5/12.8 MB 5.8 MB/s eta 0:00:03\n",
      "   - -------------------------------------- 0.5/12.8 MB 6.6 MB/s eta 0:00:02\n",
      "   -- ------------------------------------- 0.7/12.8 MB 4.5 MB/s eta 0:00:03\n",
      "   -- ------------------------------------- 0.8/12.8 MB 4.0 MB/s eta 0:00:04\n",
      "   --- ------------------------------------ 1.0/12.8 MB 3.8 MB/s eta 0:00:04\n",
      "   ---- ----------------------------------- 1.6/12.8 MB 5.1 MB/s eta 0:00:03\n",
      "   ------ --------------------------------- 2.0/12.8 MB 5.5 MB/s eta 0:00:02\n",
      "   ------ --------------------------------- 2.1/12.8 MB 5.0 MB/s eta 0:00:03\n",
      "   -------- ------------------------------- 2.6/12.8 MB 5.8 MB/s eta 0:00:02\n",
      "   --------- ------------------------------ 3.0/12.8 MB 6.0 MB/s eta 0:00:02\n",
      "   ---------- ----------------------------- 3.3/12.8 MB 6.2 MB/s eta 0:00:02\n",
      "   ----------- ---------------------------- 3.7/12.8 MB 6.2 MB/s eta 0:00:02\n",
      "   ------------ --------------------------- 4.1/12.8 MB 6.3 MB/s eta 0:00:02\n",
      "   ------------- -------------------------- 4.5/12.8 MB 6.5 MB/s eta 0:00:02\n",
      "   -------------- ------------------------- 4.7/12.8 MB 6.5 MB/s eta 0:00:02\n",
      "   --------------- ------------------------ 5.1/12.8 MB 6.5 MB/s eta 0:00:02\n",
      "   ----------------- ---------------------- 5.5/12.8 MB 6.7 MB/s eta 0:00:02\n",
      "   ------------------ --------------------- 5.8/12.8 MB 6.6 MB/s eta 0:00:02\n",
      "   ------------------- -------------------- 6.3/12.8 MB 6.9 MB/s eta 0:00:01\n",
      "   --------------------- ------------------ 6.8/12.8 MB 7.0 MB/s eta 0:00:01\n",
      "   --------------------- ------------------ 6.9/12.8 MB 6.7 MB/s eta 0:00:01\n",
      "   ----------------------- ---------------- 7.4/12.8 MB 7.0 MB/s eta 0:00:01\n",
      "   ------------------------ --------------- 7.9/12.8 MB 7.1 MB/s eta 0:00:01\n",
      "   ------------------------- -------------- 8.2/12.8 MB 7.1 MB/s eta 0:00:01\n",
      "   -------------------------- ------------- 8.4/12.8 MB 7.2 MB/s eta 0:00:01\n",
      "   ---------------------------- ----------- 9.0/12.8 MB 7.2 MB/s eta 0:00:01\n",
      "   ---------------------------- ----------- 9.2/12.8 MB 7.2 MB/s eta 0:00:01\n",
      "   ----------------------------- ---------- 9.3/12.8 MB 7.0 MB/s eta 0:00:01\n",
      "   ----------------------------- ---------- 9.5/12.8 MB 6.9 MB/s eta 0:00:01\n",
      "   ------------------------------ --------- 9.8/12.8 MB 6.8 MB/s eta 0:00:01\n",
      "   ------------------------------- -------- 10.1/12.8 MB 6.8 MB/s eta 0:00:01\n",
      "   ------------------------------- -------- 10.1/12.8 MB 6.6 MB/s eta 0:00:01\n",
      "   --------------------------------- ------ 10.6/12.8 MB 6.7 MB/s eta 0:00:01\n",
      "   --------------------------------- ------ 10.8/12.8 MB 6.9 MB/s eta 0:00:01\n",
      "   ----------------------------------- ---- 11.3/12.8 MB 7.2 MB/s eta 0:00:01\n",
      "   ------------------------------------ --- 11.6/12.8 MB 7.0 MB/s eta 0:00:01\n",
      "   ------------------------------------ --- 11.7/12.8 MB 7.1 MB/s eta 0:00:01\n",
      "   -------------------------------------- - 12.3/12.8 MB 7.2 MB/s eta 0:00:01\n",
      "   -------------------------------------- - 12.5/12.8 MB 7.3 MB/s eta 0:00:01\n",
      "   ---------------------------------------  12.8/12.8 MB 7.0 MB/s eta 0:00:01\n",
      "   ---------------------------------------  12.8/12.8 MB 7.0 MB/s eta 0:00:01\n",
      "   ---------------------------------------- 12.8/12.8 MB 6.5 MB/s eta 0:00:00\n",
      "Downloading colorcet-3.1.0-py3-none-any.whl (260 kB)\n",
      "   ---------------------------------------- 0.0/260.3 kB ? eta -:--:--\n",
      "   ---------------------------------------- 0.0/260.3 kB ? eta -:--:--\n",
      "   ------ --------------------------------- 41.0/260.3 kB ? eta -:--:--\n",
      "   ---------------------------------------  256.0/260.3 kB 5.2 MB/s eta 0:00:01\n",
      "   ---------------------------------------- 260.3/260.3 kB 2.3 MB/s eta 0:00:00\n",
      "Downloading importlib_resources-6.5.2-py3-none-any.whl (37 kB)\n",
      "Downloading pylabeladjust-0.1.13-py3-none-any.whl (19 kB)\n",
      "Downloading imageio-2.36.1-py3-none-any.whl (315 kB)\n",
      "   ---------------------------------------- 0.0/315.4 kB ? eta -:--:--\n",
      "   ----- ---------------------------------- 41.0/315.4 kB ? eta -:--:--\n",
      "   ---------------------- ----------------- 174.1/315.4 kB 3.5 MB/s eta 0:00:01\n",
      "   -------------------------------------- - 307.2/315.4 kB 4.8 MB/s eta 0:00:01\n",
      "   ---------------------------------------- 315.4/315.4 kB 2.8 MB/s eta 0:00:00\n",
      "Downloading lazy_loader-0.4-py3-none-any.whl (12 kB)\n",
      "Downloading tifffile-2024.12.12-py3-none-any.whl (227 kB)\n",
      "   ---------------------------------------- 0.0/227.5 kB ? eta -:--:--\n",
      "   ---------------------------------------- 0.0/227.5 kB ? eta -:--:--\n",
      "   ---------- ----------------------------- 61.4/227.5 kB ? eta -:--:--\n",
      "   ---------------------------------------  225.3/227.5 kB 4.6 MB/s eta 0:00:01\n",
      "   ---------------------------------------- 227.5/227.5 kB 2.0 MB/s eta 0:00:00\n",
      "Using cached dask-2024.12.1-py3-none-any.whl (1.3 MB)\n",
      "Downloading multipledispatch-1.0.0-py3-none-any.whl (12 kB)\n",
      "Downloading param-2.2.0-py3-none-any.whl (119 kB)\n",
      "   ---------------------------------------- 0.0/119.0 kB ? eta -:--:--\n",
      "   ------------------------------------- -- 112.6/119.0 kB 6.4 MB/s eta 0:00:01\n",
      "   ---------------------------------------- 119.0/119.0 kB 1.7 MB/s eta 0:00:00\n",
      "Downloading pyct-0.5.0-py2.py3-none-any.whl (15 kB)\n",
      "Downloading xarray-2025.1.0-py3-none-any.whl (1.2 MB)\n",
      "   ---------------------------------------- 0.0/1.2 MB ? eta -:--:--\n",
      "   ---------------------------------------- 0.0/1.2 MB ? eta -:--:--\n",
      "   -------------------- ------------------- 0.6/1.2 MB 19.8 MB/s eta 0:00:01\n",
      "   ---------------------------------- ----- 1.1/1.2 MB 13.5 MB/s eta 0:00:01\n",
      "   ---------------------------------------  1.2/1.2 MB 11.3 MB/s eta 0:00:01\n",
      "   ---------------------------------------- 1.2/1.2 MB 7.9 MB/s eta 0:00:00\n",
      "Building wheels for collected packages: rcssmin, rjsmin, Pyqtree\n",
      "  Building wheel for rcssmin (pyproject.toml): started\n",
      "  Building wheel for rcssmin (pyproject.toml): finished with status 'done'\n",
      "  Created wheel for rcssmin: filename=rcssmin-1.2.0-py3-none-any.whl size=11706 sha256=067ed9dd3ed61281d6cb7ba1e28b6135cae0bef8e07c54e9c9ce4aa1afb3380b\n",
      "  Stored in directory: c:\\users\\craft\\appdata\\local\\pip\\cache\\wheels\\1d\\1b\\09\\a36c0cebcb95eb0e8649567ed4691e53fd1e2f975082f6f9cb\n",
      "  Building wheel for rjsmin (pyproject.toml): started\n",
      "  Building wheel for rjsmin (pyproject.toml): finished with status 'done'\n",
      "  Created wheel for rjsmin: filename=rjsmin-1.2.3-py3-none-any.whl size=12521 sha256=79fd25eafa6ef94375790a5ea7d7bcc289ebf3d4fdc8fe2f2507928c38867960\n",
      "  Stored in directory: c:\\users\\craft\\appdata\\local\\pip\\cache\\wheels\\e8\\8d\\a0\\a9c88f5c26ff4a0b5d345d5f5e60221cac02dc44b6072ec60a\n",
      "  Building wheel for Pyqtree (pyproject.toml): started\n",
      "  Building wheel for Pyqtree (pyproject.toml): finished with status 'done'\n",
      "  Created wheel for Pyqtree: filename=Pyqtree-1.0.0-py3-none-any.whl size=5997 sha256=153c173da06c42ef77c11034d7e1c52356b2d0ea58014340158d91e1b8780fff\n",
      "  Stored in directory: c:\\users\\craft\\appdata\\local\\pip\\cache\\wheels\\63\\e6\\90\\6e15bfb4299fd41f88a9affca879f44bde40d3dc6f398462a8\n",
      "Successfully built rcssmin rjsmin Pyqtree\n",
      "Installing collected packages: rjsmin, rcssmin, Pyqtree, multipledispatch, tifffile, param, lazy-loader, importlib-resources, imageio, colorspacious, colorcet, scikit-image, pyct, dask, xarray, pylabeladjust, datashader, datamapplot\n",
      "Successfully installed Pyqtree-1.0.0 colorcet-3.1.0 colorspacious-1.1.2 dask-2024.12.1 datamapplot-0.4.2 datashader-0.16.3 imageio-2.36.1 importlib-resources-6.5.2 lazy-loader-0.4 multipledispatch-1.0.0 param-2.2.0 pyct-0.5.0 pylabeladjust-0.1.13 rcssmin-1.2.0 rjsmin-1.2.3 scikit-image-0.25.0 tifffile-2024.12.12 xarray-2025.1.0\n"
     ]
    },
    {
     "name": "stderr",
     "output_type": "stream",
     "text": [
      "WARNING: There was an error checking the latest version of pip.\n"
     ]
    },
    {
     "name": "stdout",
     "output_type": "stream",
     "text": [
      "Requirement already satisfied: dask[dataframe] in c:\\users\\craft\\appdata\\local\\packages\\pythonsoftwarefoundation.python.3.10_qbz5n2kfra8p0\\localcache\\local-packages\\python310\\site-packages (2024.12.1)\n",
      "Requirement already satisfied: click>=8.1 in c:\\users\\craft\\appdata\\local\\packages\\pythonsoftwarefoundation.python.3.10_qbz5n2kfra8p0\\localcache\\local-packages\\python310\\site-packages (from dask[dataframe]) (8.1.8)\n",
      "Requirement already satisfied: cloudpickle>=3.0.0 in c:\\users\\craft\\appdata\\local\\packages\\pythonsoftwarefoundation.python.3.10_qbz5n2kfra8p0\\localcache\\local-packages\\python310\\site-packages (from dask[dataframe]) (3.1.0)\n",
      "Requirement already satisfied: fsspec>=2021.09.0 in c:\\users\\craft\\appdata\\local\\packages\\pythonsoftwarefoundation.python.3.10_qbz5n2kfra8p0\\localcache\\local-packages\\python310\\site-packages (from dask[dataframe]) (2024.12.0)\n",
      "Requirement already satisfied: packaging>=20.0 in c:\\users\\craft\\appdata\\local\\packages\\pythonsoftwarefoundation.python.3.10_qbz5n2kfra8p0\\localcache\\local-packages\\python310\\site-packages (from dask[dataframe]) (24.1)\n",
      "Requirement already satisfied: partd>=1.4.0 in c:\\users\\craft\\appdata\\local\\packages\\pythonsoftwarefoundation.python.3.10_qbz5n2kfra8p0\\localcache\\local-packages\\python310\\site-packages (from dask[dataframe]) (1.4.2)\n",
      "Requirement already satisfied: pyyaml>=5.3.1 in c:\\users\\craft\\appdata\\local\\packages\\pythonsoftwarefoundation.python.3.10_qbz5n2kfra8p0\\localcache\\local-packages\\python310\\site-packages (from dask[dataframe]) (6.0.2)\n",
      "Requirement already satisfied: toolz>=0.10.0 in c:\\users\\craft\\appdata\\local\\packages\\pythonsoftwarefoundation.python.3.10_qbz5n2kfra8p0\\localcache\\local-packages\\python310\\site-packages (from dask[dataframe]) (1.0.0)\n",
      "Requirement already satisfied: importlib_metadata>=4.13.0 in c:\\users\\craft\\appdata\\local\\packages\\pythonsoftwarefoundation.python.3.10_qbz5n2kfra8p0\\localcache\\local-packages\\python310\\site-packages (from dask[dataframe]) (8.5.0)\n",
      "Requirement already satisfied: pandas>=2.0 in c:\\users\\craft\\appdata\\local\\packages\\pythonsoftwarefoundation.python.3.10_qbz5n2kfra8p0\\localcache\\local-packages\\python310\\site-packages (from dask[dataframe]) (2.2.3)\n",
      "Collecting dask-expr<1.2,>=1.1 (from dask[dataframe])\n",
      "  Using cached dask_expr-1.1.21-py3-none-any.whl.metadata (2.6 kB)\n",
      "Requirement already satisfied: colorama in c:\\users\\craft\\appdata\\local\\packages\\pythonsoftwarefoundation.python.3.10_qbz5n2kfra8p0\\localcache\\local-packages\\python310\\site-packages (from click>=8.1->dask[dataframe]) (0.4.6)\n",
      "Requirement already satisfied: pyarrow>=14.0.1 in c:\\users\\craft\\appdata\\local\\packages\\pythonsoftwarefoundation.python.3.10_qbz5n2kfra8p0\\localcache\\local-packages\\python310\\site-packages (from dask-expr<1.2,>=1.1->dask[dataframe]) (18.1.0)\n",
      "Requirement already satisfied: zipp>=3.20 in c:\\users\\craft\\appdata\\local\\packages\\pythonsoftwarefoundation.python.3.10_qbz5n2kfra8p0\\localcache\\local-packages\\python310\\site-packages (from importlib_metadata>=4.13.0->dask[dataframe]) (3.21.0)\n",
      "Requirement already satisfied: numpy>=1.22.4 in c:\\users\\craft\\appdata\\local\\packages\\pythonsoftwarefoundation.python.3.10_qbz5n2kfra8p0\\localcache\\local-packages\\python310\\site-packages (from pandas>=2.0->dask[dataframe]) (1.26.0)\n",
      "Requirement already satisfied: python-dateutil>=2.8.2 in c:\\users\\craft\\appdata\\local\\packages\\pythonsoftwarefoundation.python.3.10_qbz5n2kfra8p0\\localcache\\local-packages\\python310\\site-packages (from pandas>=2.0->dask[dataframe]) (2.9.0.post0)\n",
      "Requirement already satisfied: pytz>=2020.1 in c:\\users\\craft\\appdata\\local\\packages\\pythonsoftwarefoundation.python.3.10_qbz5n2kfra8p0\\localcache\\local-packages\\python310\\site-packages (from pandas>=2.0->dask[dataframe]) (2024.2)\n",
      "Requirement already satisfied: tzdata>=2022.7 in c:\\users\\craft\\appdata\\local\\packages\\pythonsoftwarefoundation.python.3.10_qbz5n2kfra8p0\\localcache\\local-packages\\python310\\site-packages (from pandas>=2.0->dask[dataframe]) (2024.2)\n",
      "Requirement already satisfied: locket in c:\\users\\craft\\appdata\\local\\packages\\pythonsoftwarefoundation.python.3.10_qbz5n2kfra8p0\\localcache\\local-packages\\python310\\site-packages (from partd>=1.4.0->dask[dataframe]) (1.0.0)\n",
      "Requirement already satisfied: six>=1.5 in c:\\users\\craft\\appdata\\local\\packages\\pythonsoftwarefoundation.python.3.10_qbz5n2kfra8p0\\localcache\\local-packages\\python310\\site-packages (from python-dateutil>=2.8.2->pandas>=2.0->dask[dataframe]) (1.16.0)\n",
      "Using cached dask_expr-1.1.21-py3-none-any.whl (244 kB)\n",
      "Installing collected packages: dask-expr\n",
      "Successfully installed dask-expr-1.1.21\n"
     ]
    },
    {
     "name": "stderr",
     "output_type": "stream",
     "text": [
      "WARNING: There was an error checking the latest version of pip.\n"
     ]
    }
   ],
   "source": [
    "!pip install umap-learn\n",
    "!pip install hdbscan\n",
    "!pip install sentence-transformers\n",
    "!pip install bertopic\n",
    "!pip install nltk\n",
    "!pip install datamapplot\n",
    "!pip install dask[dataframe]"
   ]
  },
  {
   "cell_type": "code",
   "execution_count": 2,
   "metadata": {},
   "outputs": [
    {
     "name": "stderr",
     "output_type": "stream",
     "text": [
      "C:\\Users\\craft\\AppData\\Local\\Packages\\PythonSoftwareFoundation.Python.3.10_qbz5n2kfra8p0\\LocalCache\\local-packages\\Python310\\site-packages\\tqdm\\auto.py:21: TqdmWarning: IProgress not found. Please update jupyter and ipywidgets. See https://ipywidgets.readthedocs.io/en/stable/user_install.html\n",
      "  from .autonotebook import tqdm as notebook_tqdm\n"
     ]
    }
   ],
   "source": [
    "import pandas as pd\n",
    "import html\n",
    "from umap import UMAP\n",
    "from sklearn.decomposition import PCA\n",
    "from hdbscan import HDBSCAN\n",
    "from sentence_transformers import SentenceTransformer"
   ]
  },
  {
   "cell_type": "markdown",
   "metadata": {},
   "source": [
    "## <div style=\"border: 3px solid #FFFFF; padding: 10px; border-radius: 5px; background-color: #4484c2;\">Preprocessing</div>"
   ]
  },
  {
   "cell_type": "markdown",
   "metadata": {},
   "source": [
    "Before starting to transform the data, some important preprocessing steps must be done in order to clean the data and maintain coherency in results with what has been done in the previous notebooks. The following steps were taken:"
   ]
  },
  {
   "cell_type": "markdown",
   "metadata": {},
   "source": [
    "### <div style=\"border: 3px solid #FFFFF; padding: 10px; border-radius: 5px; background-color: #4a44c2;\">1. Data Loading</div>"
   ]
  },
  {
   "cell_type": "code",
   "execution_count": 3,
   "metadata": {},
   "outputs": [
    {
     "ename": "UnicodeDecodeError",
     "evalue": "'utf-8' codec can't decode byte 0x92 in position 115: invalid start byte",
     "output_type": "error",
     "traceback": [
      "\u001b[1;31m---------------------------------------------------------------------------\u001b[0m",
      "\u001b[1;31mUnicodeDecodeError\u001b[0m                        Traceback (most recent call last)",
      "File \u001b[1;32mparsers.pyx:1120\u001b[0m, in \u001b[0;36mpandas._libs.parsers.TextReader._convert_tokens\u001b[1;34m()\u001b[0m\n",
      "File \u001b[1;32mparsers.pyx:1272\u001b[0m, in \u001b[0;36mpandas._libs.parsers.TextReader._convert_with_dtype\u001b[1;34m()\u001b[0m\n",
      "File \u001b[1;32mparsers.pyx:1285\u001b[0m, in \u001b[0;36mpandas._libs.parsers.TextReader._string_convert\u001b[1;34m()\u001b[0m\n",
      "File \u001b[1;32mparsers.pyx:1535\u001b[0m, in \u001b[0;36mpandas._libs.parsers._string_box_utf8\u001b[1;34m()\u001b[0m\n",
      "\u001b[1;31mUnicodeDecodeError\u001b[0m: 'utf-8' codec can't decode byte 0x92 in position 115: invalid start byte",
      "\nDuring handling of the above exception, another exception occurred:\n",
      "\u001b[1;31mUnicodeDecodeError\u001b[0m                        Traceback (most recent call last)",
      "Cell \u001b[1;32mIn[3], line 3\u001b[0m\n\u001b[0;32m      1\u001b[0m DATA \u001b[38;5;241m=\u001b[39m \u001b[38;5;124m'\u001b[39m\u001b[38;5;124mdata/\u001b[39m\u001b[38;5;124m'\u001b[39m\n\u001b[0;32m      2\u001b[0m test \u001b[38;5;241m=\u001b[39m pd\u001b[38;5;241m.\u001b[39mread_csv(DATA \u001b[38;5;241m+\u001b[39m \u001b[38;5;124m'\u001b[39m\u001b[38;5;124mConstraint_English_Test.csv\u001b[39m\u001b[38;5;124m'\u001b[39m, delimiter\u001b[38;5;241m=\u001b[39m\u001b[38;5;124m'\u001b[39m\u001b[38;5;124m;\u001b[39m\u001b[38;5;124m'\u001b[39m, encoding\u001b[38;5;241m=\u001b[39m\u001b[38;5;124m'\u001b[39m\u001b[38;5;124mutf-8\u001b[39m\u001b[38;5;124m'\u001b[39m)\n\u001b[1;32m----> 3\u001b[0m train \u001b[38;5;241m=\u001b[39m \u001b[43mpd\u001b[49m\u001b[38;5;241;43m.\u001b[39;49m\u001b[43mread_csv\u001b[49m\u001b[43m(\u001b[49m\u001b[43mDATA\u001b[49m\u001b[43m \u001b[49m\u001b[38;5;241;43m+\u001b[39;49m\u001b[43m \u001b[49m\u001b[38;5;124;43m'\u001b[39;49m\u001b[38;5;124;43mConstraint_English_Train.csv\u001b[39;49m\u001b[38;5;124;43m'\u001b[39;49m\u001b[43m,\u001b[49m\u001b[43m \u001b[49m\u001b[43mdelimiter\u001b[49m\u001b[38;5;241;43m=\u001b[39;49m\u001b[38;5;124;43m'\u001b[39;49m\u001b[38;5;124;43m;\u001b[39;49m\u001b[38;5;124;43m'\u001b[39;49m\u001b[43m,\u001b[49m\u001b[43m \u001b[49m\u001b[43mencoding\u001b[49m\u001b[38;5;241;43m=\u001b[39;49m\u001b[38;5;124;43m'\u001b[39;49m\u001b[38;5;124;43mutf-8\u001b[39;49m\u001b[38;5;124;43m'\u001b[39;49m\u001b[43m)\u001b[49m\n\u001b[0;32m      4\u001b[0m val \u001b[38;5;241m=\u001b[39m pd\u001b[38;5;241m.\u001b[39mread_csv(DATA \u001b[38;5;241m+\u001b[39m \u001b[38;5;124m'\u001b[39m\u001b[38;5;124mConstraint_English_Val.csv\u001b[39m\u001b[38;5;124m'\u001b[39m, delimiter\u001b[38;5;241m=\u001b[39m\u001b[38;5;124m'\u001b[39m\u001b[38;5;124m;\u001b[39m\u001b[38;5;124m'\u001b[39m, encoding\u001b[38;5;241m=\u001b[39m\u001b[38;5;124m'\u001b[39m\u001b[38;5;124mutf-8\u001b[39m\u001b[38;5;124m'\u001b[39m)\n\u001b[0;32m      6\u001b[0m tweets \u001b[38;5;241m=\u001b[39m pd\u001b[38;5;241m.\u001b[39mconcat([train, val, test], ignore_index\u001b[38;5;241m=\u001b[39m\u001b[38;5;28;01mTrue\u001b[39;00m)\n",
      "File \u001b[1;32m~\\AppData\\Local\\Packages\\PythonSoftwareFoundation.Python.3.10_qbz5n2kfra8p0\\LocalCache\\local-packages\\Python310\\site-packages\\pandas\\io\\parsers\\readers.py:1026\u001b[0m, in \u001b[0;36mread_csv\u001b[1;34m(filepath_or_buffer, sep, delimiter, header, names, index_col, usecols, dtype, engine, converters, true_values, false_values, skipinitialspace, skiprows, skipfooter, nrows, na_values, keep_default_na, na_filter, verbose, skip_blank_lines, parse_dates, infer_datetime_format, keep_date_col, date_parser, date_format, dayfirst, cache_dates, iterator, chunksize, compression, thousands, decimal, lineterminator, quotechar, quoting, doublequote, escapechar, comment, encoding, encoding_errors, dialect, on_bad_lines, delim_whitespace, low_memory, memory_map, float_precision, storage_options, dtype_backend)\u001b[0m\n\u001b[0;32m   1013\u001b[0m kwds_defaults \u001b[38;5;241m=\u001b[39m _refine_defaults_read(\n\u001b[0;32m   1014\u001b[0m     dialect,\n\u001b[0;32m   1015\u001b[0m     delimiter,\n\u001b[1;32m   (...)\u001b[0m\n\u001b[0;32m   1022\u001b[0m     dtype_backend\u001b[38;5;241m=\u001b[39mdtype_backend,\n\u001b[0;32m   1023\u001b[0m )\n\u001b[0;32m   1024\u001b[0m kwds\u001b[38;5;241m.\u001b[39mupdate(kwds_defaults)\n\u001b[1;32m-> 1026\u001b[0m \u001b[38;5;28;01mreturn\u001b[39;00m \u001b[43m_read\u001b[49m\u001b[43m(\u001b[49m\u001b[43mfilepath_or_buffer\u001b[49m\u001b[43m,\u001b[49m\u001b[43m \u001b[49m\u001b[43mkwds\u001b[49m\u001b[43m)\u001b[49m\n",
      "File \u001b[1;32m~\\AppData\\Local\\Packages\\PythonSoftwareFoundation.Python.3.10_qbz5n2kfra8p0\\LocalCache\\local-packages\\Python310\\site-packages\\pandas\\io\\parsers\\readers.py:626\u001b[0m, in \u001b[0;36m_read\u001b[1;34m(filepath_or_buffer, kwds)\u001b[0m\n\u001b[0;32m    623\u001b[0m     \u001b[38;5;28;01mreturn\u001b[39;00m parser\n\u001b[0;32m    625\u001b[0m \u001b[38;5;28;01mwith\u001b[39;00m parser:\n\u001b[1;32m--> 626\u001b[0m     \u001b[38;5;28;01mreturn\u001b[39;00m \u001b[43mparser\u001b[49m\u001b[38;5;241;43m.\u001b[39;49m\u001b[43mread\u001b[49m\u001b[43m(\u001b[49m\u001b[43mnrows\u001b[49m\u001b[43m)\u001b[49m\n",
      "File \u001b[1;32m~\\AppData\\Local\\Packages\\PythonSoftwareFoundation.Python.3.10_qbz5n2kfra8p0\\LocalCache\\local-packages\\Python310\\site-packages\\pandas\\io\\parsers\\readers.py:1923\u001b[0m, in \u001b[0;36mTextFileReader.read\u001b[1;34m(self, nrows)\u001b[0m\n\u001b[0;32m   1916\u001b[0m nrows \u001b[38;5;241m=\u001b[39m validate_integer(\u001b[38;5;124m\"\u001b[39m\u001b[38;5;124mnrows\u001b[39m\u001b[38;5;124m\"\u001b[39m, nrows)\n\u001b[0;32m   1917\u001b[0m \u001b[38;5;28;01mtry\u001b[39;00m:\n\u001b[0;32m   1918\u001b[0m     \u001b[38;5;66;03m# error: \"ParserBase\" has no attribute \"read\"\u001b[39;00m\n\u001b[0;32m   1919\u001b[0m     (\n\u001b[0;32m   1920\u001b[0m         index,\n\u001b[0;32m   1921\u001b[0m         columns,\n\u001b[0;32m   1922\u001b[0m         col_dict,\n\u001b[1;32m-> 1923\u001b[0m     ) \u001b[38;5;241m=\u001b[39m \u001b[38;5;28;43mself\u001b[39;49m\u001b[38;5;241;43m.\u001b[39;49m\u001b[43m_engine\u001b[49m\u001b[38;5;241;43m.\u001b[39;49m\u001b[43mread\u001b[49m\u001b[43m(\u001b[49m\u001b[43m  \u001b[49m\u001b[38;5;66;43;03m# type: ignore[attr-defined]\u001b[39;49;00m\n\u001b[0;32m   1924\u001b[0m \u001b[43m        \u001b[49m\u001b[43mnrows\u001b[49m\n\u001b[0;32m   1925\u001b[0m \u001b[43m    \u001b[49m\u001b[43m)\u001b[49m\n\u001b[0;32m   1926\u001b[0m \u001b[38;5;28;01mexcept\u001b[39;00m \u001b[38;5;167;01mException\u001b[39;00m:\n\u001b[0;32m   1927\u001b[0m     \u001b[38;5;28mself\u001b[39m\u001b[38;5;241m.\u001b[39mclose()\n",
      "File \u001b[1;32m~\\AppData\\Local\\Packages\\PythonSoftwareFoundation.Python.3.10_qbz5n2kfra8p0\\LocalCache\\local-packages\\Python310\\site-packages\\pandas\\io\\parsers\\c_parser_wrapper.py:234\u001b[0m, in \u001b[0;36mCParserWrapper.read\u001b[1;34m(self, nrows)\u001b[0m\n\u001b[0;32m    232\u001b[0m \u001b[38;5;28;01mtry\u001b[39;00m:\n\u001b[0;32m    233\u001b[0m     \u001b[38;5;28;01mif\u001b[39;00m \u001b[38;5;28mself\u001b[39m\u001b[38;5;241m.\u001b[39mlow_memory:\n\u001b[1;32m--> 234\u001b[0m         chunks \u001b[38;5;241m=\u001b[39m \u001b[38;5;28;43mself\u001b[39;49m\u001b[38;5;241;43m.\u001b[39;49m\u001b[43m_reader\u001b[49m\u001b[38;5;241;43m.\u001b[39;49m\u001b[43mread_low_memory\u001b[49m\u001b[43m(\u001b[49m\u001b[43mnrows\u001b[49m\u001b[43m)\u001b[49m\n\u001b[0;32m    235\u001b[0m         \u001b[38;5;66;03m# destructive to chunks\u001b[39;00m\n\u001b[0;32m    236\u001b[0m         data \u001b[38;5;241m=\u001b[39m _concatenate_chunks(chunks)\n",
      "File \u001b[1;32mparsers.pyx:838\u001b[0m, in \u001b[0;36mpandas._libs.parsers.TextReader.read_low_memory\u001b[1;34m()\u001b[0m\n",
      "File \u001b[1;32mparsers.pyx:921\u001b[0m, in \u001b[0;36mpandas._libs.parsers.TextReader._read_rows\u001b[1;34m()\u001b[0m\n",
      "File \u001b[1;32mparsers.pyx:1066\u001b[0m, in \u001b[0;36mpandas._libs.parsers.TextReader._convert_column_data\u001b[1;34m()\u001b[0m\n",
      "File \u001b[1;32mparsers.pyx:1127\u001b[0m, in \u001b[0;36mpandas._libs.parsers.TextReader._convert_tokens\u001b[1;34m()\u001b[0m\n",
      "File \u001b[1;32mparsers.pyx:1272\u001b[0m, in \u001b[0;36mpandas._libs.parsers.TextReader._convert_with_dtype\u001b[1;34m()\u001b[0m\n",
      "File \u001b[1;32mparsers.pyx:1285\u001b[0m, in \u001b[0;36mpandas._libs.parsers.TextReader._string_convert\u001b[1;34m()\u001b[0m\n",
      "File \u001b[1;32mparsers.pyx:1535\u001b[0m, in \u001b[0;36mpandas._libs.parsers._string_box_utf8\u001b[1;34m()\u001b[0m\n",
      "\u001b[1;31mUnicodeDecodeError\u001b[0m: 'utf-8' codec can't decode byte 0x92 in position 115: invalid start byte"
     ]
    }
   ],
   "source": [
    "DATA = 'data/'\n",
    "test = pd.read_csv(DATA + 'Constraint_English_Test.csv', delimiter=';', encoding='utf-8')\n",
    "train = pd.read_csv(DATA + 'Constraint_English_Train.csv', delimiter=';', encoding='utf-8')\n",
    "val = pd.read_csv(DATA + 'Constraint_English_Val.csv', delimiter=';', encoding='utf-8')\n",
    "\n",
    "tweets = pd.concat([train, val, test], ignore_index=True)\n",
    "tweets.drop(columns=['id'], inplace=True)\n",
    "tweets['tweet'] = tweets['tweet'].apply(html.unescape)"
   ]
  },
  {
   "cell_type": "markdown",
   "metadata": {},
   "source": [
    "\n",
    "### <div style=\"border: 3px solid #FFFFF; padding: 10px; border-radius: 5px; background-color: #4a44c2;\">2. Data Cleaning</div>"
   ]
  },
  {
   "cell_type": "code",
   "execution_count": null,
   "metadata": {},
   "outputs": [],
   "source": [
    "processed_tweets = tweets.copy()\n",
    "processed_tweets = processed_tweets.drop_duplicates(subset='tweet', keep='first')"
   ]
  },
  {
   "cell_type": "markdown",
   "metadata": {},
   "source": [
    "## <div style=\"border: 3px solid #FFFFF; padding: 10px; border-radius: 5px; background-color: #4484c2;\">Data Transformation (Embeddings)</div>"
   ]
  },
  {
   "cell_type": "markdown",
   "metadata": {},
   "source": [
    "In order to extract the different topics, a set of pre-trained models, called embeddings, can be used to transform the data into a format that can be used by the topic modeling algorithm. The adecuacy of the embeddings to the domain of the data is paramount for the well-performing of the topic modeling algorithm. In this case, the embeddigs used will be `covid-twitter-bert`, a model provided by digitalepidemiologylab."
   ]
  },
  {
   "cell_type": "markdown",
   "metadata": {},
   "source": [
    "### <div style=\"border: 3px solid #FFFFF; padding: 10px; border-radius: 5px; background-color: #4a44c2;\">1. Load Embeddings</div>"
   ]
  },
  {
   "cell_type": "code",
   "execution_count": null,
   "metadata": {},
   "outputs": [],
   "source": [
    "embedding_model = SentenceTransformer(\"sentence-transformers/all-MiniLM-L6-v2\")\n",
    "embeddings = embedding_model.encode(processed_tweets[\"tweet\"], show_progress_bar=True)"
   ]
  }
 ],
 "metadata": {
  "kernelspec": {
   "display_name": "Python 3",
   "language": "python",
   "name": "python3"
  },
  "language_info": {
   "codemirror_mode": {
    "name": "ipython",
    "version": 3
   },
   "file_extension": ".py",
   "mimetype": "text/x-python",
   "name": "python",
   "nbconvert_exporter": "python",
   "pygments_lexer": "ipython3",
   "version": "3.10.11"
  }
 },
 "nbformat": 4,
 "nbformat_minor": 2
}
