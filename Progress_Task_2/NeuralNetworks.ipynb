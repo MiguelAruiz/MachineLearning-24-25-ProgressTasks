{
 "cells": [
  {
   "cell_type": "markdown",
   "metadata": {},
   "source": [
    "# Neural Networks"
   ]
  },
  {
   "cell_type": "markdown",
   "metadata": {},
   "source": [
    "We tried to test the use of some feedforward neural networks developed with the help of the Keras library, as well as scikeras. This last one was used in test 2, in order to combine this approach with a random search in order to quickly test a variety of models. The last one was one that Elena developed while I was writing the second test, and it seemed to be the highest performing one (although all of them had more or less the same performance)."
   ]
  },
  {
   "cell_type": "code",
   "execution_count": 1,
   "metadata": {},
   "outputs": [
    {
     "name": "stdout",
     "output_type": "stream",
     "text": [
      "data/df_encoded.csv\n"
     ]
    }
   ],
   "source": [
    "from mlflow.create_dataset import Dataset, DATASET_TARGET_FEATURES\n",
    "dataset = Dataset()\n",
    "X,y = dataset.with_correlation()"
   ]
  },
  {
   "cell_type": "markdown",
   "metadata": {},
   "source": [
    "## Test 1: Simple neural network"
   ]
  },
  {
   "cell_type": "markdown",
   "metadata": {},
   "source": [
    "This was the initial test."
   ]
  },
  {
   "cell_type": "markdown",
   "metadata": {},
   "source": [
    "### Model Creation"
   ]
  },
  {
   "cell_type": "code",
   "execution_count": 2,
   "metadata": {},
   "outputs": [
    {
     "name": "stderr",
     "output_type": "stream",
     "text": [
      "2024-12-26 16:47:41.974596: I external/local_xla/xla/tsl/cuda/cudart_stub.cc:32] Could not find cuda drivers on your machine, GPU will not be used.\n",
      "2024-12-26 16:47:41.977153: I external/local_xla/xla/tsl/cuda/cudart_stub.cc:32] Could not find cuda drivers on your machine, GPU will not be used.\n",
      "2024-12-26 16:47:41.984338: E external/local_xla/xla/stream_executor/cuda/cuda_fft.cc:477] Unable to register cuFFT factory: Attempting to register factory for plugin cuFFT when one has already been registered\n",
      "WARNING: All log messages before absl::InitializeLog() is called are written to STDERR\n",
      "E0000 00:00:1735228061.998791  357381 cuda_dnn.cc:8310] Unable to register cuDNN factory: Attempting to register factory for plugin cuDNN when one has already been registered\n",
      "E0000 00:00:1735228062.003619  357381 cuda_blas.cc:1418] Unable to register cuBLAS factory: Attempting to register factory for plugin cuBLAS when one has already been registered\n",
      "2024-12-26 16:47:42.018641: I tensorflow/core/platform/cpu_feature_guard.cc:210] This TensorFlow binary is optimized to use available CPU instructions in performance-critical operations.\n",
      "To enable the following instructions: AVX2 FMA, in other operations, rebuild TensorFlow with the appropriate compiler flags.\n",
      "W0000 00:00:1735228063.596873  357381 gpu_device.cc:2344] Cannot dlopen some GPU libraries. Please make sure the missing libraries mentioned above are installed properly if you would like to use GPU. Follow the guide at https://www.tensorflow.org/install/gpu for how to download and setup the required libraries for your platform.\n",
      "Skipping registering GPU devices...\n"
     ]
    }
   ],
   "source": [
    "import keras as kr\n",
    "\n",
    "FIT_PARAMS = {\n",
    "    \"batch_size\": 64, # change this to try different tests\n",
    "    \"epochs\": 100,\n",
    "    \"shuffle\": True,\n",
    "}\n",
    "MODEL_NAME = \"nn_1\"\n",
    "\n",
    "n_features = len(X.columns)\n",
    "n_targets  = len(y.columns)\n",
    "relu_slope = lambda x: kr.activations.relu(x, negative_slope=0.2)\n",
    "nn_input = kr.Input(shape=(n_features,))\n",
    "x = kr.layers.Dense(15, activation=relu_slope)(nn_input)\n",
    "x = kr.layers.Dense(10, activation=relu_slope)(x)\n",
    "x = kr.layers.Dense(7, activation=relu_slope)(x)\n",
    "nn_output = kr.layers.Dense(n_targets, activation=\"softmax\")(x)\n",
    "model = kr.Model(inputs=nn_input, outputs=nn_output)\n",
    "model.compile(\n",
    "    optimizer=kr.optimizers.RMSprop(),  # Optimizer # type: ignore\n",
    "    # Loss function to minimize\n",
    "    loss=kr.losses.MeanSquaredError(),\n",
    "    \n",
    "    # List of metrics to monitor\n",
    "    metrics=[\"accuracy\", \"auc\"],\n",
    ")"
   ]
  },
  {
   "cell_type": "markdown",
   "metadata": {},
   "source": [
    "### Training & Execution"
   ]
  },
  {
   "cell_type": "code",
   "execution_count": 3,
   "metadata": {},
   "outputs": [
    {
     "name": "stdout",
     "output_type": "stream",
     "text": [
      "Epoch 1/100\n",
      "\u001b[1m334/334\u001b[0m \u001b[32m━━━━━━━━━━━━━━━━━━━━\u001b[0m\u001b[37m\u001b[0m \u001b[1m1s\u001b[0m 2ms/step - accuracy: 0.3538 - auc: 0.6535 - loss: 0.2366 - val_accuracy: 0.4435 - val_auc: 0.6995 - val_loss: 0.2261\n",
      "Epoch 2/100\n",
      "\u001b[1m334/334\u001b[0m \u001b[32m━━━━━━━━━━━━━━━━━━━━\u001b[0m\u001b[37m\u001b[0m \u001b[1m0s\u001b[0m 1ms/step - accuracy: 0.3647 - auc: 0.7065 - loss: 0.2229 - val_accuracy: 0.3609 - val_auc: 0.7108 - val_loss: 0.2219\n",
      "Epoch 3/100\n",
      "\u001b[1m334/334\u001b[0m \u001b[32m━━━━━━━━━━━━━━━━━━━━\u001b[0m\u001b[37m\u001b[0m \u001b[1m0s\u001b[0m 1ms/step - accuracy: 0.3914 - auc: 0.7182 - loss: 0.2191 - val_accuracy: 0.3731 - val_auc: 0.7140 - val_loss: 0.2204\n",
      "Epoch 4/100\n",
      "\u001b[1m334/334\u001b[0m \u001b[32m━━━━━━━━━━━━━━━━━━━━\u001b[0m\u001b[37m\u001b[0m \u001b[1m0s\u001b[0m 1ms/step - accuracy: 0.3976 - auc: 0.7153 - loss: 0.2194 - val_accuracy: 0.3658 - val_auc: 0.7151 - val_loss: 0.2198\n",
      "Epoch 5/100\n",
      "\u001b[1m334/334\u001b[0m \u001b[32m━━━━━━━━━━━━━━━━━━━━\u001b[0m\u001b[37m\u001b[0m \u001b[1m0s\u001b[0m 1ms/step - accuracy: 0.3974 - auc: 0.7146 - loss: 0.2198 - val_accuracy: 0.3540 - val_auc: 0.7159 - val_loss: 0.2197\n",
      "Epoch 6/100\n",
      "\u001b[1m334/334\u001b[0m \u001b[32m━━━━━━━━━━━━━━━━━━━━\u001b[0m\u001b[37m\u001b[0m \u001b[1m0s\u001b[0m 1ms/step - accuracy: 0.3909 - auc: 0.7170 - loss: 0.2190 - val_accuracy: 0.3746 - val_auc: 0.7168 - val_loss: 0.2193\n",
      "Epoch 7/100\n",
      "\u001b[1m334/334\u001b[0m \u001b[32m━━━━━━━━━━━━━━━━━━━━\u001b[0m\u001b[37m\u001b[0m \u001b[1m0s\u001b[0m 1ms/step - accuracy: 0.3844 - auc: 0.7172 - loss: 0.2191 - val_accuracy: 0.4214 - val_auc: 0.7153 - val_loss: 0.2195\n",
      "Epoch 8/100\n",
      "\u001b[1m334/334\u001b[0m \u001b[32m━━━━━━━━━━━━━━━━━━━━\u001b[0m\u001b[37m\u001b[0m \u001b[1m0s\u001b[0m 1ms/step - accuracy: 0.3900 - auc: 0.7182 - loss: 0.2187 - val_accuracy: 0.3478 - val_auc: 0.7167 - val_loss: 0.2197\n",
      "Epoch 9/100\n",
      "\u001b[1m334/334\u001b[0m \u001b[32m━━━━━━━━━━━━━━━━━━━━\u001b[0m\u001b[37m\u001b[0m \u001b[1m0s\u001b[0m 1ms/step - accuracy: 0.3917 - auc: 0.7163 - loss: 0.2191 - val_accuracy: 0.3774 - val_auc: 0.7172 - val_loss: 0.2190\n",
      "Epoch 10/100\n",
      "\u001b[1m334/334\u001b[0m \u001b[32m━━━━━━━━━━━━━━━━━━━━\u001b[0m\u001b[37m\u001b[0m \u001b[1m0s\u001b[0m 1ms/step - accuracy: 0.3925 - auc: 0.7183 - loss: 0.2186 - val_accuracy: 0.3830 - val_auc: 0.7175 - val_loss: 0.2188\n",
      "Epoch 11/100\n",
      "\u001b[1m334/334\u001b[0m \u001b[32m━━━━━━━━━━━━━━━━━━━━\u001b[0m\u001b[37m\u001b[0m \u001b[1m0s\u001b[0m 1ms/step - accuracy: 0.3897 - auc: 0.7235 - loss: 0.2172 - val_accuracy: 0.4066 - val_auc: 0.7156 - val_loss: 0.2193\n",
      "Epoch 12/100\n",
      "\u001b[1m334/334\u001b[0m \u001b[32m━━━━━━━━━━━━━━━━━━━━\u001b[0m\u001b[37m\u001b[0m \u001b[1m0s\u001b[0m 1ms/step - accuracy: 0.3852 - auc: 0.7157 - loss: 0.2191 - val_accuracy: 0.4133 - val_auc: 0.7173 - val_loss: 0.2190\n",
      "Epoch 13/100\n",
      "\u001b[1m334/334\u001b[0m \u001b[32m━━━━━━━━━━━━━━━━━━━━\u001b[0m\u001b[37m\u001b[0m \u001b[1m0s\u001b[0m 1ms/step - accuracy: 0.3832 - auc: 0.7155 - loss: 0.2193 - val_accuracy: 0.4045 - val_auc: 0.7183 - val_loss: 0.2186\n",
      "Epoch 14/100\n",
      "\u001b[1m334/334\u001b[0m \u001b[32m━━━━━━━━━━━━━━━━━━━━\u001b[0m\u001b[37m\u001b[0m \u001b[1m0s\u001b[0m 1ms/step - accuracy: 0.3934 - auc: 0.7229 - loss: 0.2171 - val_accuracy: 0.4356 - val_auc: 0.7158 - val_loss: 0.2199\n",
      "Epoch 15/100\n",
      "\u001b[1m334/334\u001b[0m \u001b[32m━━━━━━━━━━━━━━━━━━━━\u001b[0m\u001b[37m\u001b[0m \u001b[1m0s\u001b[0m 1ms/step - accuracy: 0.3953 - auc: 0.7229 - loss: 0.2169 - val_accuracy: 0.3735 - val_auc: 0.7193 - val_loss: 0.2183\n",
      "Epoch 16/100\n",
      "\u001b[1m334/334\u001b[0m \u001b[32m━━━━━━━━━━━━━━━━━━━━\u001b[0m\u001b[37m\u001b[0m \u001b[1m0s\u001b[0m 1ms/step - accuracy: 0.3784 - auc: 0.7206 - loss: 0.2183 - val_accuracy: 0.3817 - val_auc: 0.7195 - val_loss: 0.2182\n",
      "Epoch 17/100\n",
      "\u001b[1m334/334\u001b[0m \u001b[32m━━━━━━━━━━━━━━━━━━━━\u001b[0m\u001b[37m\u001b[0m \u001b[1m0s\u001b[0m 1ms/step - accuracy: 0.3827 - auc: 0.7210 - loss: 0.2179 - val_accuracy: 0.3738 - val_auc: 0.7192 - val_loss: 0.2185\n",
      "Epoch 18/100\n",
      "\u001b[1m334/334\u001b[0m \u001b[32m━━━━━━━━━━━━━━━━━━━━\u001b[0m\u001b[37m\u001b[0m \u001b[1m0s\u001b[0m 1ms/step - accuracy: 0.3848 - auc: 0.7221 - loss: 0.2179 - val_accuracy: 0.4023 - val_auc: 0.7189 - val_loss: 0.2187\n",
      "Epoch 19/100\n",
      "\u001b[1m334/334\u001b[0m \u001b[32m━━━━━━━━━━━━━━━━━━━━\u001b[0m\u001b[37m\u001b[0m \u001b[1m0s\u001b[0m 1ms/step - accuracy: 0.3886 - auc: 0.7224 - loss: 0.2170 - val_accuracy: 0.3656 - val_auc: 0.7194 - val_loss: 0.2182\n",
      "Epoch 20/100\n",
      "\u001b[1m334/334\u001b[0m \u001b[32m━━━━━━━━━━━━━━━━━━━━\u001b[0m\u001b[37m\u001b[0m \u001b[1m0s\u001b[0m 1ms/step - accuracy: 0.3864 - auc: 0.7240 - loss: 0.2171 - val_accuracy: 0.3899 - val_auc: 0.7195 - val_loss: 0.2183\n",
      "Epoch 21/100\n",
      "\u001b[1m334/334\u001b[0m \u001b[32m━━━━━━━━━━━━━━━━━━━━\u001b[0m\u001b[37m\u001b[0m \u001b[1m0s\u001b[0m 1ms/step - accuracy: 0.3831 - auc: 0.7216 - loss: 0.2174 - val_accuracy: 0.4317 - val_auc: 0.7165 - val_loss: 0.2193\n",
      "Epoch 22/100\n",
      "\u001b[1m334/334\u001b[0m \u001b[32m━━━━━━━━━━━━━━━━━━━━\u001b[0m\u001b[37m\u001b[0m \u001b[1m0s\u001b[0m 1ms/step - accuracy: 0.3797 - auc: 0.7208 - loss: 0.2170 - val_accuracy: 0.3920 - val_auc: 0.7189 - val_loss: 0.2183\n",
      "Epoch 23/100\n",
      "\u001b[1m334/334\u001b[0m \u001b[32m━━━━━━━━━━━━━━━━━━━━\u001b[0m\u001b[37m\u001b[0m \u001b[1m0s\u001b[0m 1ms/step - accuracy: 0.3792 - auc: 0.7227 - loss: 0.2172 - val_accuracy: 0.3955 - val_auc: 0.7193 - val_loss: 0.2183\n",
      "Epoch 24/100\n",
      "\u001b[1m334/334\u001b[0m \u001b[32m━━━━━━━━━━━━━━━━━━━━\u001b[0m\u001b[37m\u001b[0m \u001b[1m0s\u001b[0m 1ms/step - accuracy: 0.3772 - auc: 0.7222 - loss: 0.2169 - val_accuracy: 0.3718 - val_auc: 0.7197 - val_loss: 0.2182\n",
      "Epoch 25/100\n",
      "\u001b[1m334/334\u001b[0m \u001b[32m━━━━━━━━━━━━━━━━━━━━\u001b[0m\u001b[37m\u001b[0m \u001b[1m0s\u001b[0m 1ms/step - accuracy: 0.3801 - auc: 0.7272 - loss: 0.2163 - val_accuracy: 0.3785 - val_auc: 0.7202 - val_loss: 0.2180\n",
      "Epoch 26/100\n",
      "\u001b[1m334/334\u001b[0m \u001b[32m━━━━━━━━━━━━━━━━━━━━\u001b[0m\u001b[37m\u001b[0m \u001b[1m0s\u001b[0m 1ms/step - accuracy: 0.3809 - auc: 0.7250 - loss: 0.2169 - val_accuracy: 0.4060 - val_auc: 0.7190 - val_loss: 0.2183\n",
      "Epoch 27/100\n",
      "\u001b[1m334/334\u001b[0m \u001b[32m━━━━━━━━━━━━━━━━━━━━\u001b[0m\u001b[37m\u001b[0m \u001b[1m0s\u001b[0m 1ms/step - accuracy: 0.3889 - auc: 0.7255 - loss: 0.2165 - val_accuracy: 0.3856 - val_auc: 0.7191 - val_loss: 0.2182\n",
      "Epoch 28/100\n",
      "\u001b[1m334/334\u001b[0m \u001b[32m━━━━━━━━━━━━━━━━━━━━\u001b[0m\u001b[37m\u001b[0m \u001b[1m0s\u001b[0m 1ms/step - accuracy: 0.3829 - auc: 0.7187 - loss: 0.2180 - val_accuracy: 0.3658 - val_auc: 0.7192 - val_loss: 0.2183\n",
      "Epoch 29/100\n",
      "\u001b[1m334/334\u001b[0m \u001b[32m━━━━━━━━━━━━━━━━━━━━\u001b[0m\u001b[37m\u001b[0m \u001b[1m0s\u001b[0m 1ms/step - accuracy: 0.3917 - auc: 0.7276 - loss: 0.2154 - val_accuracy: 0.3911 - val_auc: 0.7186 - val_loss: 0.2183\n",
      "Epoch 30/100\n",
      "\u001b[1m334/334\u001b[0m \u001b[32m━━━━━━━━━━━━━━━━━━━━\u001b[0m\u001b[37m\u001b[0m \u001b[1m0s\u001b[0m 1ms/step - accuracy: 0.3849 - auc: 0.7258 - loss: 0.2160 - val_accuracy: 0.3635 - val_auc: 0.7196 - val_loss: 0.2181\n",
      "Epoch 31/100\n",
      "\u001b[1m334/334\u001b[0m \u001b[32m━━━━━━━━━━━━━━━━━━━━\u001b[0m\u001b[37m\u001b[0m \u001b[1m0s\u001b[0m 1ms/step - accuracy: 0.3777 - auc: 0.7249 - loss: 0.2166 - val_accuracy: 0.3720 - val_auc: 0.7198 - val_loss: 0.2183\n",
      "Epoch 32/100\n",
      "\u001b[1m334/334\u001b[0m \u001b[32m━━━━━━━━━━━━━━━━━━━━\u001b[0m\u001b[37m\u001b[0m \u001b[1m0s\u001b[0m 1ms/step - accuracy: 0.3798 - auc: 0.7219 - loss: 0.2169 - val_accuracy: 0.3721 - val_auc: 0.7189 - val_loss: 0.2184\n",
      "Epoch 33/100\n",
      "\u001b[1m334/334\u001b[0m \u001b[32m━━━━━━━━━━━━━━━━━━━━\u001b[0m\u001b[37m\u001b[0m \u001b[1m0s\u001b[0m 1ms/step - accuracy: 0.3770 - auc: 0.7267 - loss: 0.2157 - val_accuracy: 0.3660 - val_auc: 0.7189 - val_loss: 0.2190\n",
      "Epoch 34/100\n",
      "\u001b[1m334/334\u001b[0m \u001b[32m━━━━━━━━━━━━━━━━━━━━\u001b[0m\u001b[37m\u001b[0m \u001b[1m0s\u001b[0m 1ms/step - accuracy: 0.3858 - auc: 0.7240 - loss: 0.2164 - val_accuracy: 0.3778 - val_auc: 0.7188 - val_loss: 0.2187\n",
      "Epoch 35/100\n",
      "\u001b[1m334/334\u001b[0m \u001b[32m━━━━━━━━━━━━━━━━━━━━\u001b[0m\u001b[37m\u001b[0m \u001b[1m0s\u001b[0m 1ms/step - accuracy: 0.3770 - auc: 0.7211 - loss: 0.2172 - val_accuracy: 0.3540 - val_auc: 0.7198 - val_loss: 0.2185\n",
      "Model trained\n",
      "\u001b[1m835/835\u001b[0m \u001b[32m━━━━━━━━━━━━━━━━━━━━\u001b[0m\u001b[37m\u001b[0m \u001b[1m0s\u001b[0m 486us/step\n",
      "predictions saved\n"
     ]
    }
   ],
   "source": [
    "import logging\n",
    "import numpy as np\n",
    "import pandas as pd\n",
    "from sklearn.model_selection import train_test_split\n",
    "\n",
    "from mlflow.create_dataset import DATASET_TARGET_FEATURES\n",
    "\n",
    "\n",
    "X_train, X_test, y_train, y_test = train_test_split(\n",
    "    X, y, test_size=0.2, random_state=42, stratify=y\n",
    ")\n",
    "early_stopping = kr.callbacks.EarlyStopping(  # to improve the performance of the model\n",
    "    monitor=\"val_auc\", patience=10, restore_best_weights=True\n",
    ")\n",
    "\n",
    "model.fit(\n",
    "    X_train,\n",
    "    y_train,\n",
    "    validation_data=(X_test, y_test),\n",
    "    callbacks=[early_stopping],\n",
    "    **FIT_PARAMS,\n",
    ")\n",
    "print(f\"Model trained\")\n",
    "\n",
    "\n",
    "predictions: np.ndarray = model.predict(dataset.test)\n",
    "predictions = predictions.transpose()\n",
    "\n",
    "h1n1_probs = predictions[0][:]\n",
    "# Probabilidades de clase positiva para h1n1_vaccine\n",
    "seasonal_probs = predictions[1][:]\n",
    "# Probabilidades de clase positiva para seasonal_vaccine\n",
    "\n",
    "predict = pd.DataFrame(\n",
    "    {\n",
    "        \"respondent_id\": dataset.test.index,\n",
    "        \"h1n1_vaccine\": h1n1_probs,\n",
    "        \"seasonal_vaccine\": seasonal_probs,\n",
    "    }\n",
    ")\n",
    "predict.set_index(\"respondent_id\", inplace=True)\n",
    "predict.to_csv(f\"predictions_{MODEL_NAME}.csv\")\n",
    "print(\"predictions saved\")"
   ]
  },
  {
   "cell_type": "markdown",
   "metadata": {},
   "source": [
    "### Results"
   ]
  },
  {
   "cell_type": "code",
   "execution_count": 4,
   "metadata": {},
   "outputs": [
    {
     "name": "stdout",
     "output_type": "stream",
     "text": [
      "\u001b[1m167/167\u001b[0m \u001b[32m━━━━━━━━━━━━━━━━━━━━\u001b[0m\u001b[37m\u001b[0m \u001b[1m0s\u001b[0m 499us/step\n",
      "\n",
      "Results:\n",
      "- roc_auc: 0.7198323607444763\n",
      "- accuracy: 0.36624860763549805\n",
      "\n"
     ]
    }
   ],
   "source": [
    "\n",
    "model.compute_metrics(X_test, y_test, model.predict(X_test))\n",
    "accuracy = model.get_metrics_result()[\"accuracy\"]\n",
    "roc_auc = model.get_metrics_result()[\"auc\"]\n",
    "\n",
    "print(f\"\"\"\n",
    "Results:\n",
    "- roc_auc: {roc_auc}\n",
    "- accuracy: {accuracy}\n",
    "\"\"\")"
   ]
  },
  {
   "cell_type": "markdown",
   "metadata": {},
   "source": [
    "## Test 2: Use of random search over several Keras Models \n",
    "\n",
    "Doesn't work in Jupyter notebook, because of an error. Since this does not happen in the original test, this can be run from the code in the mlflow folder.\n"
   ]
  },
  {
   "cell_type": "markdown",
   "metadata": {},
   "source": [
    "### Model Creation"
   ]
  },
  {
   "cell_type": "code",
   "execution_count": 5,
   "metadata": {},
   "outputs": [],
   "source": [
    "from scipy.stats import uniform\n",
    "from scikeras.wrappers import KerasClassifier\n",
    "\n",
    "NAME = \"nn_2_si_opt\"\n",
    "\n",
    "PARAMS =  {\n",
    "    # learning algorithm parameters\n",
    "    # activation\n",
    "    # \"act\": [relu_slope, \"sigmoid\"],\n",
    "    # numbers of layers\n",
    "    # # dropout and regularisation\n",
    "    # \"dropout\": [0, 0.1, 0.2, 0.3],\n",
    "    # \"l1\": [0, 0.01, 0.003, 0.001, 0.0001],\n",
    "    # \"l2\": [0, 0.01, 0.003, 0.001, 0.0001],\n",
    "    # \"rs_num\": [0.2,0.3,0.4],\n",
    "    # neurons in each layer\n",
    "    \"shape\" : [\n",
    "        (50,),\n",
    "        (50, 25),\n",
    "        (100, 50, 20),\n",
    "        (100, 50, 25),\n",
    "        (100, 50, 25, 10),\n",
    "        (200, 100, 50, 25),\n",
    "        (200, 100, 50, 25, 10)\n",
    "    ],\n",
    "    \"act\": [\"relu\",\"tanh\"],\n",
    "    \"learn_rate\": uniform(0.0001,0.01),\n",
    "    # \"alpha\": uniform(0.0001,0.01),\n",
    "    # \"max_iter\": randint(200,1000),\n",
    "}\n",
    "\n",
    "FIT_PARAMS= {\n",
    "    \"epochs\": 100,\n",
    "    \"verbose\": 0,\n",
    "}\n",
    "\n",
    "\n",
    "def create_model(\n",
    "    shape,\n",
    "    act,\n",
    "    # rs_num,\n",
    "    learn_rate,\n",
    "    # alpha,\n",
    "    # max_iter,\n",
    "    input_shape,\n",
    "    output_shape,\n",
    "):\n",
    "    \"\"\"This is a model generating function so that we can search over neural net\n",
    "    parameters and architecture\"\"\"\n",
    "    # act = lambda x: kr.activations.relu(x, negative_slope=rs_num)\n",
    "    model = kr.models.Sequential()\n",
    "\n",
    "    # for the firt layer we need to specify the input dimensions\n",
    "    first = True\n",
    "\n",
    "    for i in shape:\n",
    "        if first:\n",
    "            model.add(kr.layers.Dense((input_shape,)))\n",
    "        else:\n",
    "            model.add(kr.layers.Dense(i,activation=act))\n",
    "\n",
    "    model.add(kr.layers.Dense(output_shape, activation=\"softmax\"))\n",
    "    model.compile(\n",
    "        loss=kr.losses.MeanSquaredError(),\n",
    "        metrics=[\"accuracy\", \"auc\"],\n",
    "        optimizer=kr.optimizers.Adam(learning_rate=learn_rate),\n",
    "    )\n",
    "    return model\n",
    "\n",
    "\n",
    "model = KerasClassifier(\n",
    "    build_fn=create_model,\n",
    "    # act=relu_slope,\n",
    "    # rs_num=0.2,\n",
    "    # dropout=0,\n",
    "    shape = (100,),\n",
    "    act=\"relu\",\n",
    "    # rs_num = 0.2,\n",
    "    learn_rate=0.001,\n",
    "    # alpha=0.001,\n",
    "    # max_iter=400,\n",
    "    input_shape=X.shape[1],\n",
    "    output_shape=y.shape[1],\n",
    ")\n"
   ]
  },
  {
   "cell_type": "markdown",
   "metadata": {},
   "source": [
    "### Training & Execution"
   ]
  },
  {
   "cell_type": "code",
   "execution_count": 6,
   "metadata": {},
   "outputs": [
    {
     "name": "stderr",
     "output_type": "stream",
     "text": [
      "2024-12-26 16:48:11.147666: I external/local_xla/xla/tsl/cuda/cudart_stub.cc:32] Could not find cuda drivers on your machine, GPU will not be used.\n",
      "2024-12-26 16:48:11.149958: I external/local_xla/xla/tsl/cuda/cudart_stub.cc:32] Could not find cuda drivers on your machine, GPU will not be used.\n",
      "2024-12-26 16:48:11.150500: I external/local_xla/xla/tsl/cuda/cudart_stub.cc:32] Could not find cuda drivers on your machine, GPU will not be used.\n",
      "2024-12-26 16:48:11.154073: I external/local_xla/xla/tsl/cuda/cudart_stub.cc:32] Could not find cuda drivers on your machine, GPU will not be used.\n",
      "2024-12-26 16:48:11.161165: E external/local_xla/xla/stream_executor/cuda/cuda_fft.cc:477] Unable to register cuFFT factory: Attempting to register factory for plugin cuFFT when one has already been registered\n",
      "2024-12-26 16:48:11.168941: E external/local_xla/xla/stream_executor/cuda/cuda_fft.cc:477] Unable to register cuFFT factory: Attempting to register factory for plugin cuFFT when one has already been registered\n",
      "2024-12-26 16:48:11.175910: I external/local_xla/xla/tsl/cuda/cudart_stub.cc:32] Could not find cuda drivers on your machine, GPU will not be used.\n",
      "WARNING: All log messages before absl::InitializeLog() is called are written to STDERR\n",
      "E0000 00:00:1735228091.177791  359589 cuda_dnn.cc:8310] Unable to register cuDNN factory: Attempting to register factory for plugin cuDNN when one has already been registered\n",
      "2024-12-26 16:48:11.179950: I external/local_xla/xla/tsl/cuda/cudart_stub.cc:32] Could not find cuda drivers on your machine, GPU will not be used.\n",
      "E0000 00:00:1735228091.182356  359589 cuda_blas.cc:1418] Unable to register cuBLAS factory: Attempting to register factory for plugin cuBLAS when one has already been registered\n",
      "2024-12-26 16:48:11.187632: I external/local_xla/xla/tsl/cuda/cudart_stub.cc:32] Could not find cuda drivers on your machine, GPU will not be used.\n",
      "2024-12-26 16:48:11.191134: I external/local_xla/xla/tsl/cuda/cudart_stub.cc:32] Could not find cuda drivers on your machine, GPU will not be used.\n",
      "2024-12-26 16:48:11.191505: E external/local_xla/xla/stream_executor/cuda/cuda_fft.cc:477] Unable to register cuFFT factory: Attempting to register factory for plugin cuFFT when one has already been registered\n",
      "WARNING: All log messages before absl::InitializeLog() is called are written to STDERR\n",
      "E0000 00:00:1735228091.194536  359586 cuda_dnn.cc:8310] Unable to register cuDNN factory: Attempting to register factory for plugin cuDNN when one has already been registered\n",
      "2024-12-26 16:48:11.198156: I tensorflow/core/platform/cpu_feature_guard.cc:210] This TensorFlow binary is optimized to use available CPU instructions in performance-critical operations.\n",
      "To enable the following instructions: AVX2 FMA, in other operations, rebuild TensorFlow with the appropriate compiler flags.\n",
      "2024-12-26 16:48:11.201040: E external/local_xla/xla/stream_executor/cuda/cuda_fft.cc:477] Unable to register cuFFT factory: Attempting to register factory for plugin cuFFT when one has already been registered\n",
      "E0000 00:00:1735228091.201574  359586 cuda_blas.cc:1418] Unable to register cuBLAS factory: Attempting to register factory for plugin cuBLAS when one has already been registered\n",
      "WARNING: All log messages before absl::InitializeLog() is called are written to STDERR\n",
      "E0000 00:00:1735228091.209018  359587 cuda_dnn.cc:8310] Unable to register cuDNN factory: Attempting to register factory for plugin cuDNN when one has already been registered\n",
      "E0000 00:00:1735228091.213740  359587 cuda_blas.cc:1418] Unable to register cuBLAS factory: Attempting to register factory for plugin cuBLAS when one has already been registered\n",
      "WARNING: All log messages before absl::InitializeLog() is called are written to STDERR\n",
      "E0000 00:00:1735228091.217483  359590 cuda_dnn.cc:8310] Unable to register cuDNN factory: Attempting to register factory for plugin cuDNN when one has already been registered\n",
      "E0000 00:00:1735228091.222390  359590 cuda_blas.cc:1418] Unable to register cuBLAS factory: Attempting to register factory for plugin cuBLAS when one has already been registered\n",
      "2024-12-26 16:48:11.224183: I tensorflow/core/platform/cpu_feature_guard.cc:210] This TensorFlow binary is optimized to use available CPU instructions in performance-critical operations.\n",
      "To enable the following instructions: AVX2 FMA, in other operations, rebuild TensorFlow with the appropriate compiler flags.\n",
      "2024-12-26 16:48:11.229708: I tensorflow/core/platform/cpu_feature_guard.cc:210] This TensorFlow binary is optimized to use available CPU instructions in performance-critical operations.\n",
      "To enable the following instructions: AVX2 FMA, in other operations, rebuild TensorFlow with the appropriate compiler flags.\n",
      "2024-12-26 16:48:11.238436: I tensorflow/core/platform/cpu_feature_guard.cc:210] This TensorFlow binary is optimized to use available CPU instructions in performance-critical operations.\n",
      "To enable the following instructions: AVX2 FMA, in other operations, rebuild TensorFlow with the appropriate compiler flags.\n",
      "2024-12-26 16:48:11.304675: I external/local_xla/xla/tsl/cuda/cudart_stub.cc:32] Could not find cuda drivers on your machine, GPU will not be used.\n",
      "2024-12-26 16:48:11.307682: I external/local_xla/xla/tsl/cuda/cudart_stub.cc:32] Could not find cuda drivers on your machine, GPU will not be used.\n",
      "2024-12-26 16:48:11.318040: E external/local_xla/xla/stream_executor/cuda/cuda_fft.cc:477] Unable to register cuFFT factory: Attempting to register factory for plugin cuFFT when one has already been registered\n",
      "WARNING: All log messages before absl::InitializeLog() is called are written to STDERR\n",
      "E0000 00:00:1735228091.334903  359588 cuda_dnn.cc:8310] Unable to register cuDNN factory: Attempting to register factory for plugin cuDNN when one has already been registered\n",
      "E0000 00:00:1735228091.340566  359588 cuda_blas.cc:1418] Unable to register cuBLAS factory: Attempting to register factory for plugin cuBLAS when one has already been registered\n",
      "2024-12-26 16:48:11.358107: I tensorflow/core/platform/cpu_feature_guard.cc:210] This TensorFlow binary is optimized to use available CPU instructions in performance-critical operations.\n",
      "To enable the following instructions: AVX2 FMA, in other operations, rebuild TensorFlow with the appropriate compiler flags.\n",
      "/home/mariojr/DocumentosCACHE/Uni ESI Grado Informatica/2024-2025/1º Semestre/ML/Lab/MachineLearning-24-25-ProgressTasks/.venv/lib/python3.10/site-packages/scikeras/wrappers.py:925: UserWarning: ``build_fn`` will be renamed to ``model`` in a future release, at which point use of ``build_fn`` will raise an Error instead.\n",
      "  X, y = self._initialize(X, y)\n",
      "/home/mariojr/DocumentosCACHE/Uni ESI Grado Informatica/2024-2025/1º Semestre/ML/Lab/MachineLearning-24-25-ProgressTasks/.venv/lib/python3.10/site-packages/scikeras/wrappers.py:925: UserWarning: ``build_fn`` will be renamed to ``model`` in a future release, at which point use of ``build_fn`` will raise an Error instead.\n",
      "  X, y = self._initialize(X, y)\n",
      "/home/mariojr/DocumentosCACHE/Uni ESI Grado Informatica/2024-2025/1º Semestre/ML/Lab/MachineLearning-24-25-ProgressTasks/.venv/lib/python3.10/site-packages/scikeras/wrappers.py:925: UserWarning: ``build_fn`` will be renamed to ``model`` in a future release, at which point use of ``build_fn`` will raise an Error instead.\n",
      "  X, y = self._initialize(X, y)\n",
      "/home/mariojr/DocumentosCACHE/Uni ESI Grado Informatica/2024-2025/1º Semestre/ML/Lab/MachineLearning-24-25-ProgressTasks/.venv/lib/python3.10/site-packages/scikeras/wrappers.py:925: UserWarning: ``build_fn`` will be renamed to ``model`` in a future release, at which point use of ``build_fn`` will raise an Error instead.\n",
      "  X, y = self._initialize(X, y)\n",
      "W0000 00:00:1735228093.274703  359586 gpu_device.cc:2344] Cannot dlopen some GPU libraries. Please make sure the missing libraries mentioned above are installed properly if you would like to use GPU. Follow the guide at https://www.tensorflow.org/install/gpu for how to download and setup the required libraries for your platform.\n",
      "Skipping registering GPU devices...\n",
      "W0000 00:00:1735228093.305572  359589 gpu_device.cc:2344] Cannot dlopen some GPU libraries. Please make sure the missing libraries mentioned above are installed properly if you would like to use GPU. Follow the guide at https://www.tensorflow.org/install/gpu for how to download and setup the required libraries for your platform.\n",
      "Skipping registering GPU devices...\n",
      "W0000 00:00:1735228093.314865  359590 gpu_device.cc:2344] Cannot dlopen some GPU libraries. Please make sure the missing libraries mentioned above are installed properly if you would like to use GPU. Follow the guide at https://www.tensorflow.org/install/gpu for how to download and setup the required libraries for your platform.\n",
      "Skipping registering GPU devices...\n",
      "W0000 00:00:1735228093.317085  359587 gpu_device.cc:2344] Cannot dlopen some GPU libraries. Please make sure the missing libraries mentioned above are installed properly if you would like to use GPU. Follow the guide at https://www.tensorflow.org/install/gpu for how to download and setup the required libraries for your platform.\n",
      "Skipping registering GPU devices...\n",
      "/home/mariojr/DocumentosCACHE/Uni ESI Grado Informatica/2024-2025/1º Semestre/ML/Lab/MachineLearning-24-25-ProgressTasks/.venv/lib/python3.10/site-packages/scikeras/wrappers.py:925: UserWarning: ``build_fn`` will be renamed to ``model`` in a future release, at which point use of ``build_fn`` will raise an Error instead.\n",
      "  X, y = self._initialize(X, y)\n",
      "W0000 00:00:1735228093.393818  359588 gpu_device.cc:2344] Cannot dlopen some GPU libraries. Please make sure the missing libraries mentioned above are installed properly if you would like to use GPU. Follow the guide at https://www.tensorflow.org/install/gpu for how to download and setup the required libraries for your platform.\n",
      "Skipping registering GPU devices...\n"
     ]
    },
    {
     "ename": "ValueError",
     "evalue": "\nAll the 5 fits failed.\nIt is very likely that your model is misconfigured.\nYou can try to debug the error by setting error_score='raise'.\n\nBelow are more details about the failures:\n--------------------------------------------------------------------------------\n5 fits failed with the following error:\nTraceback (most recent call last):\n  File \"/home/mariojr/DocumentosCACHE/Uni ESI Grado Informatica/2024-2025/1º Semestre/ML/Lab/MachineLearning-24-25-ProgressTasks/.venv/lib/python3.10/site-packages/sklearn/model_selection/_validation.py\", line 888, in _fit_and_score\n    estimator.fit(X_train, y_train, **fit_params)\n  File \"/home/mariojr/DocumentosCACHE/Uni ESI Grado Informatica/2024-2025/1º Semestre/ML/Lab/MachineLearning-24-25-ProgressTasks/.venv/lib/python3.10/site-packages/scikeras/wrappers.py\", line 1501, in fit\n    super().fit(X=X, y=y, sample_weight=sample_weight, **kwargs)\n  File \"/home/mariojr/DocumentosCACHE/Uni ESI Grado Informatica/2024-2025/1º Semestre/ML/Lab/MachineLearning-24-25-ProgressTasks/.venv/lib/python3.10/site-packages/scikeras/wrappers.py\", line 770, in fit\n    self._fit(\n  File \"/home/mariojr/DocumentosCACHE/Uni ESI Grado Informatica/2024-2025/1º Semestre/ML/Lab/MachineLearning-24-25-ProgressTasks/.venv/lib/python3.10/site-packages/scikeras/wrappers.py\", line 936, in _fit\n    self._check_model_compatibility(y)\n  File \"/home/mariojr/DocumentosCACHE/Uni ESI Grado Informatica/2024-2025/1º Semestre/ML/Lab/MachineLearning-24-25-ProgressTasks/.venv/lib/python3.10/site-packages/scikeras/wrappers.py\", line 559, in _check_model_compatibility\n    if self.n_outputs_expected_ != len(self.model_.outputs):\n  File \"/home/mariojr/DocumentosCACHE/Uni ESI Grado Informatica/2024-2025/1º Semestre/ML/Lab/MachineLearning-24-25-ProgressTasks/.venv/lib/python3.10/site-packages/keras/src/models/sequential.py\", line 300, in outputs\n    raise AttributeError(\nAttributeError: Sequential model 'sequential' has no defined outputs yet.. Did you mean: 'output'?\n",
     "output_type": "error",
     "traceback": [
      "\u001b[0;31m---------------------------------------------------------------------------\u001b[0m",
      "\u001b[0;31mValueError\u001b[0m                                Traceback (most recent call last)",
      "Cell \u001b[0;32mIn[6], line 27\u001b[0m\n\u001b[1;32m     16\u001b[0m model_rs \u001b[38;5;241m=\u001b[39m RandomizedSearchCV(\n\u001b[1;32m     17\u001b[0m     estimator\u001b[38;5;241m=\u001b[39mmodel,\n\u001b[1;32m     18\u001b[0m     param_distributions\u001b[38;5;241m=\u001b[39mmodel_params,\n\u001b[0;32m   (...)\u001b[0m\n\u001b[1;32m     23\u001b[0m     scoring\u001b[38;5;241m=\u001b[39m\u001b[38;5;124m\"\u001b[39m\u001b[38;5;124mroc_auc\u001b[39m\u001b[38;5;124m\"\u001b[39m,\n\u001b[1;32m     24\u001b[0m )\n\u001b[1;32m     26\u001b[0m \u001b[38;5;66;03m# print(f\"Model parameters:\\n{model_params}\\n\\nFit parameters:\\n{FIT_PARAMS}\")\u001b[39;00m\n\u001b[0;32m---> 27\u001b[0m \u001b[43mmodel_rs\u001b[49m\u001b[38;5;241;43m.\u001b[39;49m\u001b[43mfit\u001b[49m\u001b[43m(\u001b[49m\u001b[43mX_train\u001b[49m\u001b[43m,\u001b[49m\u001b[43m \u001b[49m\u001b[43my_train\u001b[49m\u001b[43m,\u001b[49m\u001b[43m \u001b[49m\u001b[38;5;241;43m*\u001b[39;49m\u001b[38;5;241;43m*\u001b[39;49m\u001b[43mFIT_PARAMS\u001b[49m\u001b[43m)\u001b[49m\n\u001b[1;32m     28\u001b[0m \u001b[38;5;28mprint\u001b[39m(\u001b[38;5;124mf\u001b[39m\u001b[38;5;124m\"\u001b[39m\u001b[38;5;124mModel trained\u001b[39m\u001b[38;5;124m\"\u001b[39m)\n\u001b[1;32m     29\u001b[0m y_pred \u001b[38;5;241m=\u001b[39m model_rs\u001b[38;5;241m.\u001b[39mpredict(X_test)\n",
      "File \u001b[0;32m~/DocumentosCACHE/Uni ESI Grado Informatica/2024-2025/1º Semestre/ML/Lab/MachineLearning-24-25-ProgressTasks/.venv/lib/python3.10/site-packages/sklearn/base.py:1473\u001b[0m, in \u001b[0;36m_fit_context.<locals>.decorator.<locals>.wrapper\u001b[0;34m(estimator, *args, **kwargs)\u001b[0m\n\u001b[1;32m   1466\u001b[0m     estimator\u001b[38;5;241m.\u001b[39m_validate_params()\n\u001b[1;32m   1468\u001b[0m \u001b[38;5;28;01mwith\u001b[39;00m config_context(\n\u001b[1;32m   1469\u001b[0m     skip_parameter_validation\u001b[38;5;241m=\u001b[39m(\n\u001b[1;32m   1470\u001b[0m         prefer_skip_nested_validation \u001b[38;5;129;01mor\u001b[39;00m global_skip_validation\n\u001b[1;32m   1471\u001b[0m     )\n\u001b[1;32m   1472\u001b[0m ):\n\u001b[0;32m-> 1473\u001b[0m     \u001b[38;5;28;01mreturn\u001b[39;00m \u001b[43mfit_method\u001b[49m\u001b[43m(\u001b[49m\u001b[43mestimator\u001b[49m\u001b[43m,\u001b[49m\u001b[43m \u001b[49m\u001b[38;5;241;43m*\u001b[39;49m\u001b[43margs\u001b[49m\u001b[43m,\u001b[49m\u001b[43m \u001b[49m\u001b[38;5;241;43m*\u001b[39;49m\u001b[38;5;241;43m*\u001b[39;49m\u001b[43mkwargs\u001b[49m\u001b[43m)\u001b[49m\n",
      "File \u001b[0;32m~/DocumentosCACHE/Uni ESI Grado Informatica/2024-2025/1º Semestre/ML/Lab/MachineLearning-24-25-ProgressTasks/.venv/lib/python3.10/site-packages/sklearn/model_selection/_search.py:1019\u001b[0m, in \u001b[0;36mBaseSearchCV.fit\u001b[0;34m(self, X, y, **params)\u001b[0m\n\u001b[1;32m   1013\u001b[0m     results \u001b[38;5;241m=\u001b[39m \u001b[38;5;28mself\u001b[39m\u001b[38;5;241m.\u001b[39m_format_results(\n\u001b[1;32m   1014\u001b[0m         all_candidate_params, n_splits, all_out, all_more_results\n\u001b[1;32m   1015\u001b[0m     )\n\u001b[1;32m   1017\u001b[0m     \u001b[38;5;28;01mreturn\u001b[39;00m results\n\u001b[0;32m-> 1019\u001b[0m \u001b[38;5;28;43mself\u001b[39;49m\u001b[38;5;241;43m.\u001b[39;49m\u001b[43m_run_search\u001b[49m\u001b[43m(\u001b[49m\u001b[43mevaluate_candidates\u001b[49m\u001b[43m)\u001b[49m\n\u001b[1;32m   1021\u001b[0m \u001b[38;5;66;03m# multimetric is determined here because in the case of a callable\u001b[39;00m\n\u001b[1;32m   1022\u001b[0m \u001b[38;5;66;03m# self.scoring the return type is only known after calling\u001b[39;00m\n\u001b[1;32m   1023\u001b[0m first_test_score \u001b[38;5;241m=\u001b[39m all_out[\u001b[38;5;241m0\u001b[39m][\u001b[38;5;124m\"\u001b[39m\u001b[38;5;124mtest_scores\u001b[39m\u001b[38;5;124m\"\u001b[39m]\n",
      "File \u001b[0;32m~/DocumentosCACHE/Uni ESI Grado Informatica/2024-2025/1º Semestre/ML/Lab/MachineLearning-24-25-ProgressTasks/.venv/lib/python3.10/site-packages/sklearn/model_selection/_search.py:1960\u001b[0m, in \u001b[0;36mRandomizedSearchCV._run_search\u001b[0;34m(self, evaluate_candidates)\u001b[0m\n\u001b[1;32m   1958\u001b[0m \u001b[38;5;28;01mdef\u001b[39;00m \u001b[38;5;21m_run_search\u001b[39m(\u001b[38;5;28mself\u001b[39m, evaluate_candidates):\n\u001b[1;32m   1959\u001b[0m \u001b[38;5;250m    \u001b[39m\u001b[38;5;124;03m\"\"\"Search n_iter candidates from param_distributions\"\"\"\u001b[39;00m\n\u001b[0;32m-> 1960\u001b[0m     \u001b[43mevaluate_candidates\u001b[49m\u001b[43m(\u001b[49m\n\u001b[1;32m   1961\u001b[0m \u001b[43m        \u001b[49m\u001b[43mParameterSampler\u001b[49m\u001b[43m(\u001b[49m\n\u001b[1;32m   1962\u001b[0m \u001b[43m            \u001b[49m\u001b[38;5;28;43mself\u001b[39;49m\u001b[38;5;241;43m.\u001b[39;49m\u001b[43mparam_distributions\u001b[49m\u001b[43m,\u001b[49m\u001b[43m \u001b[49m\u001b[38;5;28;43mself\u001b[39;49m\u001b[38;5;241;43m.\u001b[39;49m\u001b[43mn_iter\u001b[49m\u001b[43m,\u001b[49m\u001b[43m \u001b[49m\u001b[43mrandom_state\u001b[49m\u001b[38;5;241;43m=\u001b[39;49m\u001b[38;5;28;43mself\u001b[39;49m\u001b[38;5;241;43m.\u001b[39;49m\u001b[43mrandom_state\u001b[49m\n\u001b[1;32m   1963\u001b[0m \u001b[43m        \u001b[49m\u001b[43m)\u001b[49m\n\u001b[1;32m   1964\u001b[0m \u001b[43m    \u001b[49m\u001b[43m)\u001b[49m\n",
      "File \u001b[0;32m~/DocumentosCACHE/Uni ESI Grado Informatica/2024-2025/1º Semestre/ML/Lab/MachineLearning-24-25-ProgressTasks/.venv/lib/python3.10/site-packages/sklearn/model_selection/_search.py:996\u001b[0m, in \u001b[0;36mBaseSearchCV.fit.<locals>.evaluate_candidates\u001b[0;34m(candidate_params, cv, more_results)\u001b[0m\n\u001b[1;32m    989\u001b[0m \u001b[38;5;28;01melif\u001b[39;00m \u001b[38;5;28mlen\u001b[39m(out) \u001b[38;5;241m!=\u001b[39m n_candidates \u001b[38;5;241m*\u001b[39m n_splits:\n\u001b[1;32m    990\u001b[0m     \u001b[38;5;28;01mraise\u001b[39;00m \u001b[38;5;167;01mValueError\u001b[39;00m(\n\u001b[1;32m    991\u001b[0m         \u001b[38;5;124m\"\u001b[39m\u001b[38;5;124mcv.split and cv.get_n_splits returned \u001b[39m\u001b[38;5;124m\"\u001b[39m\n\u001b[1;32m    992\u001b[0m         \u001b[38;5;124m\"\u001b[39m\u001b[38;5;124minconsistent results. Expected \u001b[39m\u001b[38;5;132;01m{}\u001b[39;00m\u001b[38;5;124m \u001b[39m\u001b[38;5;124m\"\u001b[39m\n\u001b[1;32m    993\u001b[0m         \u001b[38;5;124m\"\u001b[39m\u001b[38;5;124msplits, got \u001b[39m\u001b[38;5;132;01m{}\u001b[39;00m\u001b[38;5;124m\"\u001b[39m\u001b[38;5;241m.\u001b[39mformat(n_splits, \u001b[38;5;28mlen\u001b[39m(out) \u001b[38;5;241m/\u001b[39m\u001b[38;5;241m/\u001b[39m n_candidates)\n\u001b[1;32m    994\u001b[0m     )\n\u001b[0;32m--> 996\u001b[0m \u001b[43m_warn_or_raise_about_fit_failures\u001b[49m\u001b[43m(\u001b[49m\u001b[43mout\u001b[49m\u001b[43m,\u001b[49m\u001b[43m \u001b[49m\u001b[38;5;28;43mself\u001b[39;49m\u001b[38;5;241;43m.\u001b[39;49m\u001b[43merror_score\u001b[49m\u001b[43m)\u001b[49m\n\u001b[1;32m    998\u001b[0m \u001b[38;5;66;03m# For callable self.scoring, the return type is only know after\u001b[39;00m\n\u001b[1;32m    999\u001b[0m \u001b[38;5;66;03m# calling. If the return type is a dictionary, the error scores\u001b[39;00m\n\u001b[1;32m   1000\u001b[0m \u001b[38;5;66;03m# can now be inserted with the correct key. The type checking\u001b[39;00m\n\u001b[1;32m   1001\u001b[0m \u001b[38;5;66;03m# of out will be done in `_insert_error_scores`.\u001b[39;00m\n\u001b[1;32m   1002\u001b[0m \u001b[38;5;28;01mif\u001b[39;00m \u001b[38;5;28mcallable\u001b[39m(\u001b[38;5;28mself\u001b[39m\u001b[38;5;241m.\u001b[39mscoring):\n",
      "File \u001b[0;32m~/DocumentosCACHE/Uni ESI Grado Informatica/2024-2025/1º Semestre/ML/Lab/MachineLearning-24-25-ProgressTasks/.venv/lib/python3.10/site-packages/sklearn/model_selection/_validation.py:529\u001b[0m, in \u001b[0;36m_warn_or_raise_about_fit_failures\u001b[0;34m(results, error_score)\u001b[0m\n\u001b[1;32m    522\u001b[0m \u001b[38;5;28;01mif\u001b[39;00m num_failed_fits \u001b[38;5;241m==\u001b[39m num_fits:\n\u001b[1;32m    523\u001b[0m     all_fits_failed_message \u001b[38;5;241m=\u001b[39m (\n\u001b[1;32m    524\u001b[0m         \u001b[38;5;124mf\u001b[39m\u001b[38;5;124m\"\u001b[39m\u001b[38;5;130;01m\\n\u001b[39;00m\u001b[38;5;124mAll the \u001b[39m\u001b[38;5;132;01m{\u001b[39;00mnum_fits\u001b[38;5;132;01m}\u001b[39;00m\u001b[38;5;124m fits failed.\u001b[39m\u001b[38;5;130;01m\\n\u001b[39;00m\u001b[38;5;124m\"\u001b[39m\n\u001b[1;32m    525\u001b[0m         \u001b[38;5;124m\"\u001b[39m\u001b[38;5;124mIt is very likely that your model is misconfigured.\u001b[39m\u001b[38;5;130;01m\\n\u001b[39;00m\u001b[38;5;124m\"\u001b[39m\n\u001b[1;32m    526\u001b[0m         \u001b[38;5;124m\"\u001b[39m\u001b[38;5;124mYou can try to debug the error by setting error_score=\u001b[39m\u001b[38;5;124m'\u001b[39m\u001b[38;5;124mraise\u001b[39m\u001b[38;5;124m'\u001b[39m\u001b[38;5;124m.\u001b[39m\u001b[38;5;130;01m\\n\u001b[39;00m\u001b[38;5;130;01m\\n\u001b[39;00m\u001b[38;5;124m\"\u001b[39m\n\u001b[1;32m    527\u001b[0m         \u001b[38;5;124mf\u001b[39m\u001b[38;5;124m\"\u001b[39m\u001b[38;5;124mBelow are more details about the failures:\u001b[39m\u001b[38;5;130;01m\\n\u001b[39;00m\u001b[38;5;132;01m{\u001b[39;00mfit_errors_summary\u001b[38;5;132;01m}\u001b[39;00m\u001b[38;5;124m\"\u001b[39m\n\u001b[1;32m    528\u001b[0m     )\n\u001b[0;32m--> 529\u001b[0m     \u001b[38;5;28;01mraise\u001b[39;00m \u001b[38;5;167;01mValueError\u001b[39;00m(all_fits_failed_message)\n\u001b[1;32m    531\u001b[0m \u001b[38;5;28;01melse\u001b[39;00m:\n\u001b[1;32m    532\u001b[0m     some_fits_failed_message \u001b[38;5;241m=\u001b[39m (\n\u001b[1;32m    533\u001b[0m         \u001b[38;5;124mf\u001b[39m\u001b[38;5;124m\"\u001b[39m\u001b[38;5;130;01m\\n\u001b[39;00m\u001b[38;5;132;01m{\u001b[39;00mnum_failed_fits\u001b[38;5;132;01m}\u001b[39;00m\u001b[38;5;124m fits failed out of a total of \u001b[39m\u001b[38;5;132;01m{\u001b[39;00mnum_fits\u001b[38;5;132;01m}\u001b[39;00m\u001b[38;5;124m.\u001b[39m\u001b[38;5;130;01m\\n\u001b[39;00m\u001b[38;5;124m\"\u001b[39m\n\u001b[1;32m    534\u001b[0m         \u001b[38;5;124m\"\u001b[39m\u001b[38;5;124mThe score on these train-test partitions for these parameters\u001b[39m\u001b[38;5;124m\"\u001b[39m\n\u001b[0;32m   (...)\u001b[0m\n\u001b[1;32m    538\u001b[0m         \u001b[38;5;124mf\u001b[39m\u001b[38;5;124m\"\u001b[39m\u001b[38;5;124mBelow are more details about the failures:\u001b[39m\u001b[38;5;130;01m\\n\u001b[39;00m\u001b[38;5;132;01m{\u001b[39;00mfit_errors_summary\u001b[38;5;132;01m}\u001b[39;00m\u001b[38;5;124m\"\u001b[39m\n\u001b[1;32m    539\u001b[0m     )\n",
      "\u001b[0;31mValueError\u001b[0m: \nAll the 5 fits failed.\nIt is very likely that your model is misconfigured.\nYou can try to debug the error by setting error_score='raise'.\n\nBelow are more details about the failures:\n--------------------------------------------------------------------------------\n5 fits failed with the following error:\nTraceback (most recent call last):\n  File \"/home/mariojr/DocumentosCACHE/Uni ESI Grado Informatica/2024-2025/1º Semestre/ML/Lab/MachineLearning-24-25-ProgressTasks/.venv/lib/python3.10/site-packages/sklearn/model_selection/_validation.py\", line 888, in _fit_and_score\n    estimator.fit(X_train, y_train, **fit_params)\n  File \"/home/mariojr/DocumentosCACHE/Uni ESI Grado Informatica/2024-2025/1º Semestre/ML/Lab/MachineLearning-24-25-ProgressTasks/.venv/lib/python3.10/site-packages/scikeras/wrappers.py\", line 1501, in fit\n    super().fit(X=X, y=y, sample_weight=sample_weight, **kwargs)\n  File \"/home/mariojr/DocumentosCACHE/Uni ESI Grado Informatica/2024-2025/1º Semestre/ML/Lab/MachineLearning-24-25-ProgressTasks/.venv/lib/python3.10/site-packages/scikeras/wrappers.py\", line 770, in fit\n    self._fit(\n  File \"/home/mariojr/DocumentosCACHE/Uni ESI Grado Informatica/2024-2025/1º Semestre/ML/Lab/MachineLearning-24-25-ProgressTasks/.venv/lib/python3.10/site-packages/scikeras/wrappers.py\", line 936, in _fit\n    self._check_model_compatibility(y)\n  File \"/home/mariojr/DocumentosCACHE/Uni ESI Grado Informatica/2024-2025/1º Semestre/ML/Lab/MachineLearning-24-25-ProgressTasks/.venv/lib/python3.10/site-packages/scikeras/wrappers.py\", line 559, in _check_model_compatibility\n    if self.n_outputs_expected_ != len(self.model_.outputs):\n  File \"/home/mariojr/DocumentosCACHE/Uni ESI Grado Informatica/2024-2025/1º Semestre/ML/Lab/MachineLearning-24-25-ProgressTasks/.venv/lib/python3.10/site-packages/keras/src/models/sequential.py\", line 300, in outputs\n    raise AttributeError(\nAttributeError: Sequential model 'sequential' has no defined outputs yet.. Did you mean: 'output'?\n"
     ]
    }
   ],
   "source": [
    "import logging\n",
    "import numpy as np\n",
    "import pandas as pd\n",
    "from sklearn.metrics import roc_auc_score,accuracy_score\n",
    "from sklearn.model_selection import RandomizedSearchCV, train_test_split\n",
    "\n",
    "X_train, X_test, y_train, y_test = train_test_split(\n",
    "    X, y, test_size=0.3, random_state=42\n",
    ")\n",
    "\n",
    "model_params = PARAMS | {\n",
    "    \"input_shape\": [X.shape[1]],\n",
    "    \"output_shape\": [y.shape[1]],\n",
    "}\n",
    "\n",
    "model_rs = RandomizedSearchCV(\n",
    "    estimator=model,\n",
    "    param_distributions=model_params,\n",
    "    n_iter=1,\n",
    "    cv=5,\n",
    "    n_jobs=-1,\n",
    "    verbose=0,\n",
    "    scoring=\"roc_auc\",\n",
    ")\n",
    "\n",
    "# print(f\"Model parameters:\\n{model_params}\\n\\nFit parameters:\\n{FIT_PARAMS}\")\n",
    "model_rs.fit(X_train, y_train, **FIT_PARAMS)\n",
    "print(f\"Model trained\")\n",
    "y_pred = model_rs.predict(X_test)\n",
    "\n",
    "accuracy = accuracy_score(y_test, y_pred)\n",
    "roc_auc = roc_auc_score(y_test, y_pred, average=\"macro\")\n",
    "logging.info(\"Model evaluated\")\n",
    "\n",
    "pd_train = pd.concat([X_train, y_train], axis=1)\n",
    "\n",
    "predictions = model_rs.predict_proba(dataset.test[dataset.test.columns.difference(DATASET_TARGET_FEATURES)])\n",
    "\n",
    "predictions = predictions.transpose()\n",
    "h1n1_probs = predictions[0][:]\n",
    "# Probabilidades de clase positiva para h1n1_vaccine\n",
    "seasonal_probs = predictions[1][:]\n",
    "# Probabilidades de clase positiva para seasonal_vaccine\n",
    "\n",
    "predict = pd.DataFrame(\n",
    "    {\n",
    "        \"respondent_id\": dataset.test.index,\n",
    "        \"h1n1_vaccine\": h1n1_probs,\n",
    "        \"seasonal_vaccine\": seasonal_probs,\n",
    "    }\n",
    ")\n",
    "predict.set_index(\"respondent_id\", inplace=True)\n",
    "predict.to_csv(f\"predictions_{NAME}.csv\")\n",
    "print(\"predictions saved\")"
   ]
  },
  {
   "cell_type": "markdown",
   "metadata": {},
   "source": [
    "### Results"
   ]
  },
  {
   "cell_type": "code",
   "execution_count": null,
   "metadata": {},
   "outputs": [],
   "source": [
    "print(f\"\"\"\n",
    "Results:\n",
    "- roc_auc: {roc_auc}\n",
    "- accuracy: {accuracy}\n",
    "\"\"\")"
   ]
  },
  {
   "cell_type": "markdown",
   "metadata": {},
   "source": [
    "## Test 3: Bigger neural network, with a some dropout layers in between"
   ]
  },
  {
   "cell_type": "markdown",
   "metadata": {},
   "source": [
    "Elena developed this model, and it is the same as the one developed in test1, although with a far larger size, and larger amount of layers in between."
   ]
  },
  {
   "cell_type": "markdown",
   "metadata": {},
   "source": [
    "### Model Creation"
   ]
  },
  {
   "cell_type": "code",
   "execution_count": 11,
   "metadata": {},
   "outputs": [],
   "source": [
    "FIT_PARAMS = {\n",
    "    \"batch_size\": 64, # change this to try different tests\n",
    "    \"epochs\": 100,\n",
    "    \"shuffle\": True,\n",
    "}\n",
    "MODEL_NAME = \"nn_3\"\n",
    "\n",
    "nn_input = kr.Input(shape=(n_features,))\n",
    "x = kr.layers.Dense(512, activation='relu')(nn_input) #what ever other input and activation function\n",
    "x = kr.layers.Dense(256, activation='relu', kernel_regularizer=kr.regularizers.l2(0.01))(x)\n",
    "x = kr.layers.Dropout(0.3)(x)\n",
    "x = kr.layers.Dense(128, activation='relu')(x)\n",
    "x = kr.layers.Dense(64, activation='sigmoid')(x)\n",
    "x = kr.layers.Dropout(0.2)(x)\n",
    "x = kr.layers.Dense(32, activation='relu')(x)\n",
    "nn_output = kr.layers.Dense(n_targets, activation=\"sigmoid\")(x) # SIGMOID better than SOFTMAX\n",
    "\n",
    "model = kr.Model(inputs=nn_input, outputs=nn_output)\n",
    "model.compile(\n",
    "    optimizer=kr.optimizers.Adam(learning_rate=0.001),  \n",
    "    # Loss function to minimize\n",
    "    loss=kr.losses.BinaryCrossentropy(), # THIS ONE DO NOT CHANGE\n",
    "    # List of metrics to monitor\n",
    "    metrics=[\"accuracy\", kr.metrics.AUC(name=\"auc\", multi_label=True)],\n",
    ")"
   ]
  },
  {
   "cell_type": "markdown",
   "metadata": {},
   "source": [
    "### Training & Execution"
   ]
  },
  {
   "cell_type": "code",
   "execution_count": null,
   "metadata": {},
   "outputs": [],
   "source": [
    "import numpy as np\n",
    "import pandas as pd\n",
    "from sklearn.model_selection import train_test_split\n",
    "\n",
    "from mlflow.create_dataset import DATASET_TARGET_FEATURES\n",
    "\n",
    "\n",
    "X_train, X_test, y_train, y_test = train_test_split(\n",
    "    X, y, test_size=0.2, random_state=43, stratify=y\n",
    ")\n",
    "early_stopping = kr.callbacks.EarlyStopping(  # to improve the performance of the model\n",
    "    monitor=\"val_auc\", patience=10, restore_best_weights=True\n",
    ")\n",
    "\n",
    "model.fit(\n",
    "    X_train,\n",
    "    y_train,\n",
    "    validation_data=(X_test, y_test),\n",
    "    callbacks=[early_stopping],\n",
    "    **FIT_PARAMS,\n",
    ")\n",
    "print(f\"Model trained\")\n",
    "\n",
    "\n",
    "predictions: np.ndarray = model.predict(dataset.test)\n",
    "predictions = predictions.transpose()\n",
    "\n",
    "h1n1_probs = predictions[0][:]\n",
    "# Probabilidades de clase positiva para h1n1_vaccine\n",
    "seasonal_probs = predictions[1][:]\n",
    "# Probabilidades de clase positiva para seasonal_vaccine\n",
    "\n",
    "predict = pd.DataFrame(\n",
    "    {\n",
    "        \"respondent_id\": dataset.test.index,\n",
    "        \"h1n1_vaccine\": h1n1_probs,\n",
    "        \"seasonal_vaccine\": seasonal_probs,\n",
    "    }\n",
    ")\n",
    "predict.set_index(\"respondent_id\", inplace=True)\n",
    "predict.to_csv(f\"predictions_{MODEL_NAME}.csv\")\n",
    "print(\"predictions saved\")"
   ]
  },
  {
   "cell_type": "markdown",
   "metadata": {},
   "source": [
    "### Results"
   ]
  },
  {
   "cell_type": "code",
   "execution_count": null,
   "metadata": {},
   "outputs": [],
   "source": [
    "from sklearn.metrics import ConfusionMatrixDisplay\n",
    "from scikeras.wrappers import KerasClassifier\n",
    "\n",
    "model.compute_metrics(X_test, y_test, model.predict(X_test))\n",
    "accuracy = model.get_metrics_result()[\"accuracy\"]\n",
    "roc_auc = model.get_metrics_result()[\"auc\"]\n",
    "\n",
    "print(f\"\"\"\n",
    "Results:\n",
    "- roc_auc: {roc_auc}\n",
    "- accuracy: {accuracy}\n",
    "\"\"\")\n",
    "# ConfusionMatrixDisplay.from_predictions(y_test,model.predict(X_test))\n",
    "# KerasClassifier(model).predict(X_test)"
   ]
  },
  {
   "attachments": {
    "contest-results.jpeg": {
     "image/png": "[encoded data removed]"
    }
   },
   "cell_type": "markdown",
   "metadata": {},
   "source": [
    "We uploaded this last model to the contest, since it had the highest metrics in ROC and accuracy, and these were the results:\n",
    "\n",
    "![](attachment:contest-results.jpeg)"
   ]
  }
 ],
 "metadata": {
  "kernelspec": {
   "display_name": ".venv",
   "language": "python",
   "name": "python3"
  },
  "language_info": {
   "codemirror_mode": {
    "name": "ipython",
    "version": 3
   },
   "file_extension": ".py",
   "mimetype": "text/x-python",
   "name": "python",
   "nbconvert_exporter": "python",
   "pygments_lexer": "ipython3",
   "version": "3.10.12"
  }
 },
 "nbformat": 4,
 "nbformat_minor": 2
}
