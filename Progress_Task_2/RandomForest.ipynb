{
 "cells": [
  {
   "cell_type": "markdown",
   "metadata": {},
   "source": [
    "# Machine Learning 2024/2025 - Progress Task 2 (Machine Learning Model Applications and Analysis)"
   ]
  },
  {
   "cell_type": "markdown",
   "metadata": {},
   "source": [
    "## Introduction"
   ]
  },
  {
   "cell_type": "markdown",
   "metadata": {},
   "source": [
    "Based on our experience and the previous task, we decided to use Random Forest Classifier as a first approach. It is an ensemble method that trains multiple decision trees and combines them to get a more accurate and stable prediction. It is a good choice for classification tasks and it is easy to use and tune."
   ]
  },
  {
   "cell_type": "markdown",
   "metadata": {},
   "source": [
    "## Methodology"
   ]
  },
  {
   "cell_type": "markdown",
   "metadata": {},
   "source": [
    "Once the data was preprocessed, we split it into training and testing sets. To find the best hyperparameters, we used RandomizedSearchCV, which is a method that randomly selects a set of hyperparameters from a grid and evaluates them using cross-validation. We decided to use this method because it is faster than GridSearchCV and we will be executing the code multiple times."
   ]
  },
  {
   "cell_type": "markdown",
   "metadata": {},
   "source": [
    "To make different tests and save the performance of each model, we have used a tool called MLFlow. That allows to track the performance of the models, save the models in a file and compare them easily."
   ]
  },
  {
   "cell_type": "markdown",
   "metadata": {},
   "source": [
    "## Implementation"
   ]
  },
  {
   "cell_type": "code",
   "execution_count": 1,
   "metadata": {},
   "outputs": [],
   "source": [
    "# import libraries\n",
    "import pandas as pd\n",
    "from scipy.stats import randint\n",
    "from sklearn.model_selection import RandomizedSearchCV\n",
    "from sklearn.model_selection import train_test_split\n",
    "from sklearn.metrics import roc_auc_score, accuracy_score, f1_score\n",
    "from sklearn.ensemble import RandomForestClassifier\n",
    "from sklearn.multioutput import MultiOutputClassifier"
   ]
  },
  {
   "cell_type": "markdown",
   "metadata": {},
   "source": [
    "First we need to take the data. We have a class called Dataset that is responsible for loading the data and make some preprocessing. From now on, we will use the whole dataset that was exported to csv in `Preprocessing.ipynb` without making any other preprocessing, like removing the correlated features."
   ]
  },
  {
   "cell_type": "code",
   "execution_count": 2,
   "metadata": {},
   "outputs": [],
   "source": [
    "# import dataset\n",
    "from mlflow.create_dataset import Dataset\n",
    "\n",
    "data = Dataset()\n",
    "X, y, output = data.with_correlation()"
   ]
  },
  {
   "cell_type": "markdown",
   "metadata": {},
   "source": [
    "A single Random Forest model can't be used in an multi-class classification problem. Therefore, we need `sklearn.multioutput.MultiOutputClassifier` to fit one classifier per target. We did not used a random state value, as we wanted to perform multiple tests, therefore this experiment is not reproducible."
   ]
  },
  {
   "cell_type": "code",
   "execution_count": 3,
   "metadata": {},
   "outputs": [],
   "source": [
    "# initialize model\n",
    "model_to_train = MultiOutputClassifier(RandomForestClassifier(warm_start=True), n_jobs=-1)"
   ]
  },
  {
   "cell_type": "code",
   "execution_count": 4,
   "metadata": {},
   "outputs": [],
   "source": [
    "# initialize search hyperparameters\n",
    "param_dist_random = {\n",
    "                'estimator__n_estimators': randint(50, 200),\n",
    "                'estimator__max_depth': [None, 10, 20, 30],\n",
    "                'estimator__min_samples_split': randint(2, 11),\n",
    "                'estimator__min_samples_leaf': randint(1, 5),\n",
    "                'estimator__criterion': ['gini', 'entropy']\n",
    "}\n",
    "random_search = RandomizedSearchCV(estimator=model_to_train, param_distributions=param_dist_random,\n",
    "                                    n_iter=100, cv=5, n_jobs=-1, verbose=1,\n",
    "                                    scoring='roc_auc')"
   ]
  },
  {
   "cell_type": "code",
   "execution_count": 5,
   "metadata": {},
   "outputs": [],
   "source": [
    "# create train and test sets\n",
    "X_train, X_test, y_train, y_test = train_test_split(X, y, test_size=0.2, stratify=y) #no random state"
   ]
  },
  {
   "cell_type": "markdown",
   "metadata": {},
   "source": [
    "All the preparation steps have been done and now we can start the training and evaluation process."
   ]
  },
  {
   "cell_type": "code",
   "execution_count": 6,
   "metadata": {},
   "outputs": [
    {
     "name": "stdout",
     "output_type": "stream",
     "text": [
      "Fitting 5 folds for each of 100 candidates, totalling 500 fits\n",
      "Best parameters found by random search: {'estimator__criterion': 'entropy', 'estimator__max_depth': 20, 'estimator__min_samples_leaf': 4, 'estimator__min_samples_split': 9, 'estimator__n_estimators': 169}\n"
     ]
    }
   ],
   "source": [
    "#train the model\n",
    "# WARNING time: 11 min\n",
    "random_search.fit(X_train, y_train)\n",
    "best_model = random_search.best_estimator_\n",
    "print('Best parameters found by random search:', random_search.best_params_)"
   ]
  },
  {
   "cell_type": "code",
   "execution_count": 7,
   "metadata": {},
   "outputs": [],
   "source": [
    "# predict on test set\n",
    "y_pred = best_model.predict(X_test)"
   ]
  },
  {
   "cell_type": "code",
   "execution_count": 8,
   "metadata": {},
   "outputs": [
    {
     "name": "stdout",
     "output_type": "stream",
     "text": [
      "Accuracy: 0.6842006739049046\n",
      "ROC AUC: 0.7415120521195204\n",
      "F1: 0.6620609540838549\n"
     ]
    }
   ],
   "source": [
    "################ METRICS ################\n",
    "accuracy = accuracy_score(y_test, y_pred)\n",
    "roc_auc = roc_auc_score(y_test, y_pred, average=\"macro\")\n",
    "f1 = f1_score(y_test, y_pred, average=\"macro\")\n",
    "print(f'Accuracy: {accuracy}')\n",
    "print(f'ROC AUC: {roc_auc}')\n",
    "print(f'F1: {f1}')"
   ]
  },
  {
   "cell_type": "code",
   "execution_count": 9,
   "metadata": {},
   "outputs": [
    {
     "name": "stdout",
     "output_type": "stream",
     "text": [
      "              precision    recall  f1-score   support\n",
      "\n",
      "           0       0.77      0.45      0.57      1135\n",
      "           1       0.78      0.74      0.76      2488\n",
      "\n",
      "   micro avg       0.78      0.65      0.71      3623\n",
      "   macro avg       0.77      0.59      0.66      3623\n",
      "weighted avg       0.77      0.65      0.70      3623\n",
      " samples avg       0.34      0.32      0.33      3623\n",
      "\n"
     ]
    }
   ],
   "source": [
    "from sklearn.metrics import classification_report\n",
    "print(classification_report(y_test, y_pred, zero_division=0))"
   ]
  },
  {
   "cell_type": "markdown",
   "metadata": {},
   "source": [
    "After testing the performance of a simple Random Forest using the previous approach, we got a ROC AUC score of 0.8533, which is a really good result, approximately at ranking 800. We thought that we could improve this result by retraing the model.\n",
    "\n",
    "Taking a look at the documentation of [Random Forest](https://scikit-learn.org/stable/modules/generated/sklearn.ensemble.RandomForestClassifier.html), we found that the parameter `warm_start` can be used to reuse the solution of the previous call to fit and add more estimators to the ensemble. So following an approach similar to Neural Networks, we decided to train the model in multiple steps, adding 50 estimators each time and implementing a early stopping mechanism in a naive way. The reason for adding more estimators is that the model can learn more complex patterns and generalize better at each epoch.\n",
    "\n",
    "However, there's a risk that the model overfits the training data, so we need to evaluate the model in the validation set after each epoch and stop the training if the performance is not improving. We will use the ROC AUC score as the metric to evaluate the model."
   ]
  },
  {
   "cell_type": "code",
   "execution_count": 10,
   "metadata": {},
   "outputs": [
    {
     "name": "stdout",
     "output_type": "stream",
     "text": [
      "Iteration 1 - ROC AUC: 0.7434179243233554\n",
      "Iteration 3 - ROC AUC: 0.7437132865908533\n",
      "Iteration 6 - ROC AUC: 0.7440493290255644\n",
      "Iteration 40 - ROC AUC: 0.7440740998009826\n",
      "Early stopping at iteration 40\n"
     ]
    }
   ],
   "source": [
    "m = best_model #current best model for worse performance\n",
    "\n",
    "prev_val = roc_auc\n",
    "for i in range(50):\n",
    "    m.fit(X_train, y_train)\n",
    "    y_pred = m.predict(X_test)\n",
    "    roc_auc = roc_auc_score(y_test, y_pred, average=\"macro\")\n",
    "    if prev_val > roc_auc: # model is not improving\n",
    "        continue\n",
    "    print(f'Iteration {i+1} - ROC AUC: {roc_auc}')\n",
    "    if roc_auc - prev_val < 0.0001:\n",
    "        print(f'Early stopping at iteration {i+1}')\n",
    "        break\n",
    "    m.estimator.n_estimators += 50\n",
    "    prev_val = roc_auc"
   ]
  },
  {
   "cell_type": "code",
   "execution_count": 11,
   "metadata": {},
   "outputs": [
    {
     "data": {
      "text/html": [
       "<div>\n",
       "<style scoped>\n",
       "    .dataframe tbody tr th:only-of-type {\n",
       "        vertical-align: middle;\n",
       "    }\n",
       "\n",
       "    .dataframe tbody tr th {\n",
       "        vertical-align: top;\n",
       "    }\n",
       "\n",
       "    .dataframe thead th {\n",
       "        text-align: right;\n",
       "    }\n",
       "</style>\n",
       "<table border=\"1\" class=\"dataframe\">\n",
       "  <thead>\n",
       "    <tr style=\"text-align: right;\">\n",
       "      <th></th>\n",
       "      <th>h1n1_vaccine</th>\n",
       "      <th>seasonal_vaccine</th>\n",
       "    </tr>\n",
       "    <tr>\n",
       "      <th>respondent_id</th>\n",
       "      <th></th>\n",
       "      <th></th>\n",
       "    </tr>\n",
       "  </thead>\n",
       "  <tbody>\n",
       "    <tr>\n",
       "      <th>26707</th>\n",
       "      <td>0.177913</td>\n",
       "      <td>0.259646</td>\n",
       "    </tr>\n",
       "    <tr>\n",
       "      <th>26708</th>\n",
       "      <td>0.041745</td>\n",
       "      <td>0.038087</td>\n",
       "    </tr>\n",
       "    <tr>\n",
       "      <th>26709</th>\n",
       "      <td>0.256132</td>\n",
       "      <td>0.800002</td>\n",
       "    </tr>\n",
       "    <tr>\n",
       "      <th>26710</th>\n",
       "      <td>0.623692</td>\n",
       "      <td>0.906221</td>\n",
       "    </tr>\n",
       "    <tr>\n",
       "      <th>26711</th>\n",
       "      <td>0.326017</td>\n",
       "      <td>0.462796</td>\n",
       "    </tr>\n",
       "  </tbody>\n",
       "</table>\n",
       "</div>"
      ],
      "text/plain": [
       "               h1n1_vaccine  seasonal_vaccine\n",
       "respondent_id                                \n",
       "26707              0.177913          0.259646\n",
       "26708              0.041745          0.038087\n",
       "26709              0.256132          0.800002\n",
       "26710              0.623692          0.906221\n",
       "26711              0.326017          0.462796"
      ]
     },
     "execution_count": 11,
     "metadata": {},
     "output_type": "execute_result"
    }
   ],
   "source": [
    "# competition submission\n",
    "predictions = best_model.predict_proba(output)\n",
    "        \n",
    "h1n1_probs = predictions[0][:, 1]  # Probabilities of positive class for h1n1_vaccine\n",
    "seasonal_probs = predictions[1][:, 1]  # Probabilities of positive class for seasonal_vaccine\n",
    "predict = pd.DataFrame({\n",
    "            \"respondent_id\": output.index,\n",
    "            \"h1n1_vaccine\": h1n1_probs,\n",
    "            \"seasonal_vaccine\": seasonal_probs\n",
    "})\n",
    "predict.set_index(\"respondent_id\", inplace=True)\n",
    "predict.head()"
   ]
  },
  {
   "cell_type": "markdown",
   "metadata": {},
   "source": [
    "Uncomment the following cell to save the results on an csv file to upload it to the competition."
   ]
  },
  {
   "cell_type": "code",
   "execution_count": 12,
   "metadata": {},
   "outputs": [],
   "source": [
    "# predict.to_csv(\"predictions.csv\")"
   ]
  },
  {
   "cell_type": "markdown",
   "metadata": {},
   "source": [
    "## Results"
   ]
  },
  {
   "cell_type": "markdown",
   "metadata": {},
   "source": [
    "As we said previously, this experiment is not reproducible. However, we have saved the results of the models in MLFlow. Here are the results of the best model:"
   ]
  },
  {
   "attachments": {
    "results.png": {
     "image/png": "[encoded data removed]"
    }
   },
   "cell_type": "markdown",
   "metadata": {},
   "source": [
    "![results.png](attachment:results.png)"
   ]
  },
  {
   "attachments": {
    "randomForest.png": {
     "image/png": "[encoded data removed]"
    }
   },
   "cell_type": "markdown",
   "metadata": {},
   "source": [
    "![randomForest.png](attachment:randomForest.png)"
   ]
  },
  {
   "attachments": {
    "Captura de pantalla 2024-12-23 181605.png": {
     "image/png": "[encoded data removed]"
    },
    "Captura de pantalla 2024-12-23 181625.png": {
     "image/png": "[encoded data removed]"
    }
   },
   "cell_type": "markdown",
   "metadata": {},
   "source": [
    "<details>\n",
    "    <summary>Click to see the whole log</summary>\n",
    " \n",
    "![Captura de pantalla 2024-12-23 181605.png](<attachment:Captura de pantalla 2024-12-23 181605.png>)\n",
    "![Captura de pantalla 2024-12-23 181625.png](<attachment:Captura de pantalla 2024-12-23 181625.png>)\n",
    "</details>"
   ]
  },
  {
   "cell_type": "markdown",
   "metadata": {},
   "source": [
    "It is worth mentioning that every Random Forest model we trained had a ROC AUC score between 0.7321 and 0.7562, except for the previous one, which had a score of 0.8133. Retraining the model improved slightly the score but it highly depend on the first model. If it was a good one, it was easier and faster to get a better score.\n",
    "\n",
    "Also, the models had better performance in the competition test set with an score no lower than 0.8474"
   ]
  }
 ],
 "metadata": {
  "kernelspec": {
   "display_name": ".venv",
   "language": "python",
   "name": "python3"
  },
  "language_info": {
   "codemirror_mode": {
    "name": "ipython",
    "version": 3
   },
   "file_extension": ".py",
   "mimetype": "text/x-python",
   "name": "python",
   "nbconvert_exporter": "python",
   "pygments_lexer": "ipython3",
   "version": "3.12.6"
  }
 },
 "nbformat": 4,
 "nbformat_minor": 2
}
