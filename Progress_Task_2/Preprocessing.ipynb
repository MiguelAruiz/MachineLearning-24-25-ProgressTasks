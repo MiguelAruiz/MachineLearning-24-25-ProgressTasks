{
 "cells": [
  {
   "cell_type": "markdown",
   "metadata": {},
   "source": [
    "# Machine Learning 2024/2025 - Progress Task 2 (Data Preprocessing)"
   ]
  },
  {
   "cell_type": "markdown",
   "metadata": {},
   "source": [
    "## Introduction"
   ]
  },
  {
   "cell_type": "markdown",
   "metadata": {},
   "source": [
    "**Statement for the task:**\n",
    "\n",
    "In this competition-style task, your objective is to build a predictive model that estimates the likelihood of individuals receiving two different vaccines: the H1N1 flu vaccine and the seasonal flu vaccine. You will create two separate probability predictions for each individual in the dataset: \n",
    "- h1n1_vaccine: The probability that an individual receives the H1N1 flu vaccine. \n",
    "- seasonal_vaccine: The probability that an individual receives the seasonal flu vaccine. \n",
    "\n",
    "All the information about the task is on the following site: \n",
    "https://www.drivendata.org/competitions/66/flu-shot-learning/page/210/"
   ]
  },
  {
   "cell_type": "markdown",
   "metadata": {},
   "source": [
    "## Preparation of Environmental Variables"
   ]
  },
  {
   "cell_type": "markdown",
   "metadata": {},
   "source": [
    "## Exploratory Data Analysis (EDA)"
   ]
  }
 ],
 "metadata": {
  "language_info": {
   "name": "python"
  }
 },
 "nbformat": 4,
 "nbformat_minor": 2
}
