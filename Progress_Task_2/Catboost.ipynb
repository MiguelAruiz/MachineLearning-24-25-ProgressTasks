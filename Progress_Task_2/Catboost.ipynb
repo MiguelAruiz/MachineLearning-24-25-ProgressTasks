{
 "cells": [
  {
   "cell_type": "markdown",
   "metadata": {},
   "source": [
    "# Catboost\n",
    "\n",
    "CatBoost is a high-performance open source library for gradient boosting on decision trees. Source: [CatBoost](https://catboost.ai/)"
   ]
  },
  {
   "cell_type": "markdown",
   "metadata": {},
   "source": [
    "## Introduction"
   ]
  },
  {
   "cell_type": "markdown",
   "metadata": {},
   "source": [
    "We weren’t making any improvements and we had ran out of ideas, however we noticed that we could achieve a higher score in the ranking, as people had higher score. So we decided to ask ChatGPT for advice. After several questions, we concluded that one of the options was to try new models and the one that convinced us the most was CatBoost. In addition, it suggested that we could use Optuna to search the hyperparameters."
   ]
  },
  {
   "cell_type": "markdown",
   "metadata": {},
   "source": [
    "CatBoost is an algorithm for gradient boosting on decision trees. We have already used gradient boosting models, but this implementation is optimized for categorical features. It is also optimized for speed and performance, and it is able to handle large datasets with ease. It is also able to handle missing values and it is able to handle categorical features without the need for one-hot encoding."
   ]
  },
  {
   "cell_type": "markdown",
   "metadata": {},
   "source": [
    "## Methodology\n",
    "\n",
    "First, as we didn't know anything about CatBoost we had to read the documentation and some tutorials. We also had to read the Optuna documentation to understand how to use it. \n",
    "\n",
    "We tried to use the same dataset and features that we used in the previous models with a satisfactory result but it wasn't enough to improve our score. So we decided to use different datasets: the one we used in the previous models, that one but with one-hot encoding, another removing outliers and the same but with one-hot encoding. We didn't get good results, or at least as good as we were expecting.\n",
    "\n",
    "To execute the models, we decided to implement two models, one per target variable. Although we didn't really high results when we tried this technique with Random Forest, we still think it is a good approach. We also used Optuna to search the hyperparameters for each one."
   ]
  },
  {
   "cell_type": "markdown",
   "metadata": {},
   "source": [
    "## Implementation"
   ]
  },
  {
   "cell_type": "code",
   "execution_count": null,
   "metadata": {},
   "outputs": [],
   "source": [
    "# import libraries\n",
    "\n",
    "import optuna\n",
    "from catboost import CatBoostClassifier\n",
    "from sklearn.model_selection import StratifiedKFold\n",
    "\n",
    "import pandas as pd\n",
    "import numpy as np\n",
    "import json\n",
    "\n",
    "from sklearn.model_selection import train_test_split\n",
    "from mlflow.create_dataset import Dataset\n",
    "from sklearn.metrics import roc_auc_score, accuracy_score"
   ]
  },
  {
   "cell_type": "code",
   "execution_count": null,
   "metadata": {},
   "outputs": [],
   "source": [
    "# load data\n",
    "data = Dataset()\n",
    "X, y, output = data.all_onehot()\n",
    "\n",
    "X_train, X_test, y_train, y_test = train_test_split(X, y, test_size=0.2, stratify=y)\n",
    "h1_train = y_train[\"h1n1_vaccine\"]\n",
    "seasonal_train = y_train[\"seasonal_vaccine\"]\n",
    "h1_test = y_test[\"h1n1_vaccine\"]    \n",
    "seasonal_test = y_test[\"seasonal_vaccine\"]"
   ]
  },
  {
   "cell_type": "markdown",
   "metadata": {},
   "source": [
    "Optuna needs a function to optimize, so we created a function that receives the type of target variable and returns the best roc auc score."
   ]
  },
  {
   "cell_type": "code",
   "execution_count": null,
   "metadata": {},
   "outputs": [],
   "source": [
    "def objective_vaccine(trial, target):\n",
    "    '''Objective function for Optuna study to optimize CatBoost hyperparameters for vaccine prediction.\n",
    "    '''\n",
    "    param_dist_random = {\n",
    "        'iterations': trial.suggest_int('iterations', 100, 3000),\n",
    "        'depth': trial.suggest_int('depth', 4, 16),\n",
    "        'learning_rate': trial.suggest_float('learning_rate', 0.001, 0.2, log=True),\n",
    "        'l2_leaf_reg': trial.suggest_float('l2_leaf_reg', 1e-3, 10.0, log=True),\n",
    "        'random_strength': trial.suggest_float('random_strength', 1e-3, 10.0),\n",
    "        'bagging_temperature': trial.suggest_float('bagging_temperature', 0, 1),\n",
    "        'border_count': trial.suggest_int('border_count', 32, 255),\n",
    "        'grow_policy': trial.suggest_categorical('grow_policy', ['SymmetricTree', 'Depthwise', 'Lossguide']),\n",
    "    }\n",
    "\n",
    "    if target == 'h1n1_vaccine': #change target\n",
    "        target_data = h1_train\n",
    "    elif target == 'seasonal_vaccine':\n",
    "        target_data = seasonal_train\n",
    "    else:\n",
    "        raise ValueError(f\"Unknown target column: {target}\")\n",
    "    \n",
    "    class_majority = target_data.value_counts().max()  # Número de muestras en la clase mayoritaria\n",
    "    class_minority = target_data.value_counts().min()  # Número de muestras en la clase minoritaria\n",
    "\n",
    "    # Calcular los pesos de las clases\n",
    "    class_weight_majority = len(target_data) / (2 * class_majority)\n",
    "    class_weight_minority = len(target_data) / (2 * class_minority)\n",
    "\n",
    "    model = CatBoostClassifier(\n",
    "        eval_metric='AUC',        \n",
    "        cat_features=[],\n",
    "        train_dir='catboost_info',\n",
    "        class_weights=[class_weight_majority, class_weight_minority],    \n",
    "        early_stopping_rounds=50, verbose=0, **param_dist_random         \n",
    "    )\n",
    "    # Inicializar StratifiedKFold para validación cruzada\n",
    "    cv = StratifiedKFold(n_splits=5, shuffle=True, random_state=42)\n",
    "\n",
    "    auc_scores = []  # Para almacenar AUC de cada pliegue\n",
    "    X_train.reset_index(drop=True, inplace=True)\n",
    "    target_data.reset_index(drop=True, inplace=True)\n",
    "\n",
    "    for train_index, val_index in cv.split(X_train, target_data):\n",
    "        X_train_fold, X_val_fold = X_train.iloc[train_index], X_train.iloc[val_index]\n",
    "        y_train_fold, y_val_fold = target_data.iloc[train_index], target_data.iloc[val_index]\n",
    "\n",
    "        # Entrenar el modelo en cada pliegue\n",
    "        model.fit(X_train_fold, y_train_fold, eval_set=(X_val_fold, y_val_fold), use_best_model=True)\n",
    "\n",
    "        # Obtener las predicciones para el conjunto de validación\n",
    "        y_pred_prob = model.predict_proba(X_val_fold)[:, 1]\n",
    "\n",
    "        # Calcular AUC para el pliegue\n",
    "        auc = roc_auc_score(y_val_fold, y_pred_prob)\n",
    "        auc_scores.append(auc)\n",
    "\n",
    "    # Promediar las AUC de todos los pliegues\n",
    "    mean_auc = np.mean(auc_scores)\n",
    "\n",
    "    return float(mean_auc)"
   ]
  },
  {
   "cell_type": "code",
   "execution_count": null,
   "metadata": {},
   "outputs": [],
   "source": [
    "################ Start Optuna Seasonal vaccine ################\n",
    "study_s = optuna.create_study(directions=[\"maximize\"]) # maximize the AUC\n",
    "study_s.optimize(lambda trial: objective_vaccine(trial, target='seasonal_vaccine'), n_trials=100, show_progress_bar=True, n_jobs=-1)\n",
    "\n",
    "print(\"Seasonal done\")\n",
    "print(study_s.best_params)\n",
    "print(study_s.best_value)\n",
    "\n",
    "results = {\n",
    "    \"best_params\": study_s.best_params,\n",
    "    \"best_value\": study_s.best_value\n",
    "}\n",
    "\n",
    "with open(\"seasonal_vaccine_results.json\", \"w\") as f: # save the results in case of failure\n",
    "    json.dump(results, f, indent=4)"
   ]
  },
  {
   "cell_type": "code",
   "execution_count": null,
   "metadata": {},
   "outputs": [],
   "source": [
    "################ Start Optuna h1n1 vaccine ################\n",
    "study_h1 = optuna.create_study(directions=[\"maximize\"])\n",
    "study_h1.optimize(lambda trial: objective_vaccine(trial, target='h1n1_vaccine'), n_trials=100, show_progress_bar=True)  \n",
    "\n",
    "print(\"H1N1 done\")\n",
    "print(study_h1.best_params)\n",
    "print(study_h1.best_value)\n",
    "\n",
    "results = {\n",
    "    \"best_params\": study_h1.best_params,\n",
    "    \"best_value\": study_h1.best_value\n",
    "}\n",
    "\n",
    "with open(\"h1_vaccine_results.json\", \"w\") as f: # save the results in case of failure\n",
    "    json.dump(results, f, indent=4)"
   ]
  },
  {
   "cell_type": "code",
   "execution_count": null,
   "metadata": {},
   "outputs": [],
   "source": [
    "model0 = CatBoostClassifier(**study_h1.best_params)\n",
    "model1 = CatBoostClassifier(**study_s.best_params)\n",
    "\n",
    "model0.fit(X_train, h1_train, early_stopping_rounds=50, verbose=100)\n",
    "model1.fit(X_train, seasonal_train, early_stopping_rounds=50, verbose=100)"
   ]
  },
  {
   "cell_type": "markdown",
   "metadata": {},
   "source": [
    "## Submission"
   ]
  },
  {
   "cell_type": "code",
   "execution_count": null,
   "metadata": {},
   "outputs": [],
   "source": [
    "predictions0 = model0.predict_proba(output)\n",
    "predictions1 = model1.predict_proba(output)\n",
    "\n",
    "h1n1_probs = predictions0[:, 1]  \n",
    "seasonal_probs = predictions1[:, 1] \n",
    "\n",
    "predict = pd.DataFrame({\n",
    "    \"respondent_id\": output.index,\n",
    "    \"h1n1_vaccine\": h1n1_probs,\n",
    "    \"seasonal_vaccine\": seasonal_probs\n",
    "})\n",
    "predict.set_index(\"respondent_id\", inplace=True)\n",
    "predict.to_csv(\"predictions.csv\") \n",
    "print(\"predictions saved\")"
   ]
  },
  {
   "cell_type": "markdown",
   "metadata": {},
   "source": [
    "## Results"
   ]
  },
  {
   "cell_type": "markdown",
   "metadata": {},
   "source": []
  }
 ],
 "metadata": {
  "kernelspec": {
   "display_name": ".venv",
   "language": "python",
   "name": "python3"
  },
  "language_info": {
   "codemirror_mode": {
    "name": "ipython",
    "version": 3
   },
   "file_extension": ".py",
   "mimetype": "text/x-python",
   "name": "python",
   "nbconvert_exporter": "python",
   "pygments_lexer": "ipython3",
   "version": "3.12.6"
  }
 },
 "nbformat": 4,
 "nbformat_minor": 2
}
